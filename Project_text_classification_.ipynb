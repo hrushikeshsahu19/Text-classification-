{
  "nbformat": 4,
  "nbformat_minor": 0,
  "metadata": {
    "colab": {
      "name": "Project_text classification .ipynb",
      "provenance": [],
      "collapsed_sections": [],
      "authorship_tag": "ABX9TyOlCF1s3T+lC8EYo18S5GuL",
      "include_colab_link": true
    },
    "kernelspec": {
      "name": "python3",
      "display_name": "Python 3"
    },
    "language_info": {
      "name": "python"
    }
  },
  "cells": [
    {
      "cell_type": "markdown",
      "metadata": {
        "id": "view-in-github",
        "colab_type": "text"
      },
      "source": [
        "<a href=\"https://colab.research.google.com/github/hrushikeshsahu19/Text-classification-/blob/main/Project_text_classification_.ipynb\" target=\"_parent\"><img src=\"https://colab.research.google.com/assets/colab-badge.svg\" alt=\"Open In Colab\"/></a>"
      ]
    },
    {
      "cell_type": "code",
      "execution_count": null,
      "metadata": {
        "colab": {
          "base_uri": "https://localhost:8080/"
        },
        "id": "WoMgR6HsSB7R",
        "outputId": "9ac842ae-a831-42a6-eb9f-1500a38c1e0c"
      },
      "outputs": [
        {
          "output_type": "stream",
          "name": "stdout",
          "text": [
            "[nltk_data] Downloading package stopwords to /root/nltk_data...\n",
            "[nltk_data]   Package stopwords is already up-to-date!\n"
          ]
        }
      ],
      "source": [
        "#import library\n",
        "import pandas as pd\n",
        "import seaborn as sns\n",
        "import matplotlib.pyplot as plt\n",
        "import warnings\n",
        "warnings.filterwarnings('ignore')\n",
        "import numpy as np\n",
        "import nltk\n",
        "nltk.download('stopwords')\n",
        "import string\n",
        "from nltk.corpus import stopwords\n",
        "from sklearn.feature_extraction.text import TfidfVectorizer\n",
        "from sklearn.model_selection import train_test_split\n",
        "from sklearn.preprocessing import LabelEncoder"
      ]
    },
    {
      "cell_type": "code",
      "source": [
        "from google.colab import drive\n",
        "drive.mount('/content/drive')"
      ],
      "metadata": {
        "colab": {
          "base_uri": "https://localhost:8080/"
        },
        "id": "P5kvVK9oS6t2",
        "outputId": "f08ecb2f-a123-4619-e1d2-b0f19649f001"
      },
      "execution_count": null,
      "outputs": [
        {
          "output_type": "stream",
          "name": "stdout",
          "text": [
            "Drive already mounted at /content/drive; to attempt to forcibly remount, call drive.mount(\"/content/drive\", force_remount=True).\n"
          ]
        }
      ]
    },
    {
      "cell_type": "code",
      "source": [
        "#load the dataset\n",
        "df=pd.read_csv('/content/drive/MyDrive/project/training_data.csv')"
      ],
      "metadata": {
        "id": "for7fK-DSkrW"
      },
      "execution_count": null,
      "outputs": []
    },
    {
      "cell_type": "code",
      "source": [
        "df.head()"
      ],
      "metadata": {
        "colab": {
          "base_uri": "https://localhost:8080/",
          "height": 206
        },
        "id": "-aD-qD-pSkuc",
        "outputId": "ddfc7104-e94c-4804-a31f-17bb433ad5aa"
      },
      "execution_count": null,
      "outputs": [
        {
          "output_type": "execute_result",
          "data": {
            "text/html": [
              "\n",
              "  <div id=\"df-26166de2-1d59-462e-8e68-7fe550e32ce5\">\n",
              "    <div class=\"colab-df-container\">\n",
              "      <div>\n",
              "<style scoped>\n",
              "    .dataframe tbody tr th:only-of-type {\n",
              "        vertical-align: middle;\n",
              "    }\n",
              "\n",
              "    .dataframe tbody tr th {\n",
              "        vertical-align: top;\n",
              "    }\n",
              "\n",
              "    .dataframe thead th {\n",
              "        text-align: right;\n",
              "    }\n",
              "</style>\n",
              "<table border=\"1\" class=\"dataframe\">\n",
              "  <thead>\n",
              "    <tr style=\"text-align: right;\">\n",
              "      <th></th>\n",
              "      <th>title</th>\n",
              "      <th>category</th>\n",
              "    </tr>\n",
              "  </thead>\n",
              "  <tbody>\n",
              "    <tr>\n",
              "      <th>0</th>\n",
              "      <td>The Three Amigos</td>\n",
              "      <td>None</td>\n",
              "    </tr>\n",
              "    <tr>\n",
              "      <th>1</th>\n",
              "      <td>Home Essentials Blue Floral Glass Vintage Styl...</td>\n",
              "      <td>Home &amp; Kitchen</td>\n",
              "    </tr>\n",
              "    <tr>\n",
              "      <th>2</th>\n",
              "      <td>Cooper Wiring Quiet Toggle Switch Single Pole ...</td>\n",
              "      <td>Tools &amp; Home Improvement</td>\n",
              "    </tr>\n",
              "    <tr>\n",
              "      <th>3</th>\n",
              "      <td>Baseboarders&amp;reg; Wall Brackets</td>\n",
              "      <td>Tools &amp; Home Improvement</td>\n",
              "    </tr>\n",
              "    <tr>\n",
              "      <th>4</th>\n",
              "      <td>The Great Wave Off Kanagawa Custom Rectangle M...</td>\n",
              "      <td>Office Products</td>\n",
              "    </tr>\n",
              "  </tbody>\n",
              "</table>\n",
              "</div>\n",
              "      <button class=\"colab-df-convert\" onclick=\"convertToInteractive('df-26166de2-1d59-462e-8e68-7fe550e32ce5')\"\n",
              "              title=\"Convert this dataframe to an interactive table.\"\n",
              "              style=\"display:none;\">\n",
              "        \n",
              "  <svg xmlns=\"http://www.w3.org/2000/svg\" height=\"24px\"viewBox=\"0 0 24 24\"\n",
              "       width=\"24px\">\n",
              "    <path d=\"M0 0h24v24H0V0z\" fill=\"none\"/>\n",
              "    <path d=\"M18.56 5.44l.94 2.06.94-2.06 2.06-.94-2.06-.94-.94-2.06-.94 2.06-2.06.94zm-11 1L8.5 8.5l.94-2.06 2.06-.94-2.06-.94L8.5 2.5l-.94 2.06-2.06.94zm10 10l.94 2.06.94-2.06 2.06-.94-2.06-.94-.94-2.06-.94 2.06-2.06.94z\"/><path d=\"M17.41 7.96l-1.37-1.37c-.4-.4-.92-.59-1.43-.59-.52 0-1.04.2-1.43.59L10.3 9.45l-7.72 7.72c-.78.78-.78 2.05 0 2.83L4 21.41c.39.39.9.59 1.41.59.51 0 1.02-.2 1.41-.59l7.78-7.78 2.81-2.81c.8-.78.8-2.07 0-2.86zM5.41 20L4 18.59l7.72-7.72 1.47 1.35L5.41 20z\"/>\n",
              "  </svg>\n",
              "      </button>\n",
              "      \n",
              "  <style>\n",
              "    .colab-df-container {\n",
              "      display:flex;\n",
              "      flex-wrap:wrap;\n",
              "      gap: 12px;\n",
              "    }\n",
              "\n",
              "    .colab-df-convert {\n",
              "      background-color: #E8F0FE;\n",
              "      border: none;\n",
              "      border-radius: 50%;\n",
              "      cursor: pointer;\n",
              "      display: none;\n",
              "      fill: #1967D2;\n",
              "      height: 32px;\n",
              "      padding: 0 0 0 0;\n",
              "      width: 32px;\n",
              "    }\n",
              "\n",
              "    .colab-df-convert:hover {\n",
              "      background-color: #E2EBFA;\n",
              "      box-shadow: 0px 1px 2px rgba(60, 64, 67, 0.3), 0px 1px 3px 1px rgba(60, 64, 67, 0.15);\n",
              "      fill: #174EA6;\n",
              "    }\n",
              "\n",
              "    [theme=dark] .colab-df-convert {\n",
              "      background-color: #3B4455;\n",
              "      fill: #D2E3FC;\n",
              "    }\n",
              "\n",
              "    [theme=dark] .colab-df-convert:hover {\n",
              "      background-color: #434B5C;\n",
              "      box-shadow: 0px 1px 3px 1px rgba(0, 0, 0, 0.15);\n",
              "      filter: drop-shadow(0px 1px 2px rgba(0, 0, 0, 0.3));\n",
              "      fill: #FFFFFF;\n",
              "    }\n",
              "  </style>\n",
              "\n",
              "      <script>\n",
              "        const buttonEl =\n",
              "          document.querySelector('#df-26166de2-1d59-462e-8e68-7fe550e32ce5 button.colab-df-convert');\n",
              "        buttonEl.style.display =\n",
              "          google.colab.kernel.accessAllowed ? 'block' : 'none';\n",
              "\n",
              "        async function convertToInteractive(key) {\n",
              "          const element = document.querySelector('#df-26166de2-1d59-462e-8e68-7fe550e32ce5');\n",
              "          const dataTable =\n",
              "            await google.colab.kernel.invokeFunction('convertToInteractive',\n",
              "                                                     [key], {});\n",
              "          if (!dataTable) return;\n",
              "\n",
              "          const docLinkHtml = 'Like what you see? Visit the ' +\n",
              "            '<a target=\"_blank\" href=https://colab.research.google.com/notebooks/data_table.ipynb>data table notebook</a>'\n",
              "            + ' to learn more about interactive tables.';\n",
              "          element.innerHTML = '';\n",
              "          dataTable['output_type'] = 'display_data';\n",
              "          await google.colab.output.renderOutput(dataTable, element);\n",
              "          const docLink = document.createElement('div');\n",
              "          docLink.innerHTML = docLinkHtml;\n",
              "          element.appendChild(docLink);\n",
              "        }\n",
              "      </script>\n",
              "    </div>\n",
              "  </div>\n",
              "  "
            ],
            "text/plain": [
              "                                               title                  category\n",
              "0                                   The Three Amigos                      None\n",
              "1  Home Essentials Blue Floral Glass Vintage Styl...            Home & Kitchen\n",
              "2  Cooper Wiring Quiet Toggle Switch Single Pole ...  Tools & Home Improvement\n",
              "3                    Baseboarders&reg; Wall Brackets  Tools & Home Improvement\n",
              "4  The Great Wave Off Kanagawa Custom Rectangle M...           Office Products"
            ]
          },
          "metadata": {},
          "execution_count": 3
        }
      ]
    },
    {
      "cell_type": "code",
      "source": [
        "df.shape"
      ],
      "metadata": {
        "colab": {
          "base_uri": "https://localhost:8080/"
        },
        "id": "09Omr67hSkxm",
        "outputId": "66e8a98d-1436-4680-c977-f7ca3d240f14"
      },
      "execution_count": null,
      "outputs": [
        {
          "output_type": "execute_result",
          "data": {
            "text/plain": [
              "(20188, 2)"
            ]
          },
          "metadata": {},
          "execution_count": 18
        }
      ]
    },
    {
      "cell_type": "code",
      "source": [
        "df.info()"
      ],
      "metadata": {
        "colab": {
          "base_uri": "https://localhost:8080/"
        },
        "id": "PawPuhpHTMWj",
        "outputId": "a311f0ee-eafc-4258-b79e-455971105188"
      },
      "execution_count": null,
      "outputs": [
        {
          "output_type": "stream",
          "name": "stdout",
          "text": [
            "<class 'pandas.core.frame.DataFrame'>\n",
            "RangeIndex: 20188 entries, 0 to 20187\n",
            "Data columns (total 2 columns):\n",
            " #   Column    Non-Null Count  Dtype \n",
            "---  ------    --------------  ----- \n",
            " 0   title     20188 non-null  object\n",
            " 1   category  20188 non-null  object\n",
            "dtypes: object(2)\n",
            "memory usage: 315.6+ KB\n"
          ]
        }
      ]
    },
    {
      "cell_type": "code",
      "source": [
        "df['title']=df['title'].astype('string')\n",
        "df['category']=df['category'].astype('string')"
      ],
      "metadata": {
        "id": "qh3QhPN2UfXP"
      },
      "execution_count": null,
      "outputs": []
    },
    {
      "cell_type": "code",
      "source": [
        "df.info()"
      ],
      "metadata": {
        "colab": {
          "base_uri": "https://localhost:8080/"
        },
        "id": "LZgVdSKWUzPI",
        "outputId": "a741c81e-520f-415d-c0ad-79fc6c7e4dc5"
      },
      "execution_count": null,
      "outputs": [
        {
          "output_type": "stream",
          "name": "stdout",
          "text": [
            "<class 'pandas.core.frame.DataFrame'>\n",
            "RangeIndex: 20188 entries, 0 to 20187\n",
            "Data columns (total 2 columns):\n",
            " #   Column    Non-Null Count  Dtype \n",
            "---  ------    --------------  ----- \n",
            " 0   title     20188 non-null  string\n",
            " 1   category  20188 non-null  string\n",
            "dtypes: string(2)\n",
            "memory usage: 315.6 KB\n"
          ]
        }
      ]
    },
    {
      "cell_type": "code",
      "source": [
        "np.unique(df['category'])"
      ],
      "metadata": {
        "colab": {
          "base_uri": "https://localhost:8080/"
        },
        "id": "ZXc9fXdsSk0s",
        "outputId": "3767f84b-0598-403e-ffe5-e97333e1f66f"
      },
      "execution_count": null,
      "outputs": [
        {
          "output_type": "execute_result",
          "data": {
            "text/plain": [
              "array(['Electronics', 'Grocery & Gourmet Food', 'Home & Kitchen',\n",
              "       'Industrial & Scientific', 'None', 'Office Products',\n",
              "       'Tools & Home Improvement'], dtype=object)"
            ]
          },
          "metadata": {},
          "execution_count": 23
        }
      ]
    },
    {
      "cell_type": "code",
      "source": [
        "df['category'].value_counts()"
      ],
      "metadata": {
        "colab": {
          "base_uri": "https://localhost:8080/"
        },
        "id": "ywfsYTZGSk3-",
        "outputId": "c76395da-e105-413c-efda-579b4bb56174"
      },
      "execution_count": null,
      "outputs": [
        {
          "output_type": "execute_result",
          "data": {
            "text/plain": [
              "None                        10123\n",
              "Home & Kitchen               4960\n",
              "Tools & Home Improvement     2080\n",
              "Office Products              1144\n",
              "Grocery & Gourmet Food       1102\n",
              "Industrial & Scientific       588\n",
              "Electronics                   191\n",
              "Name: category, dtype: Int64"
            ]
          },
          "metadata": {},
          "execution_count": 24
        }
      ]
    },
    {
      "cell_type": "code",
      "source": [
        "plt.figure(figsize=(15,10))\n",
        "sns.countplot(x='category',data=df)"
      ],
      "metadata": {
        "colab": {
          "base_uri": "https://localhost:8080/",
          "height": 623
        },
        "id": "1RAjzKnTSk7G",
        "outputId": "da58e5ce-d7c2-40ce-f7d3-e2263871cc64"
      },
      "execution_count": null,
      "outputs": [
        {
          "output_type": "execute_result",
          "data": {
            "text/plain": [
              "<matplotlib.axes._subplots.AxesSubplot at 0x7f51860ddb90>"
            ]
          },
          "metadata": {},
          "execution_count": 25
        },
        {
          "output_type": "display_data",
          "data": {
            "image/png": "[encoded data removed]",
            "text/plain": [
              "<Figure size 1080x720 with 1 Axes>"
            ]
          },
          "metadata": {
            "needs_background": "light"
          }
        }
      ]
    },
    {
      "cell_type": "markdown",
      "source": [
        "#**take the title which have category**"
      ],
      "metadata": {
        "id": "23MUE7kevGwC"
      }
    },
    {
      "cell_type": "code",
      "source": [
        "df=df[df['category']!='None']"
      ],
      "metadata": {
        "id": "XMsx1aw8Sk98"
      },
      "execution_count": null,
      "outputs": []
    },
    {
      "cell_type": "code",
      "source": [
        "df.shape"
      ],
      "metadata": {
        "colab": {
          "base_uri": "https://localhost:8080/"
        },
        "id": "5cM1hPgkU_NF",
        "outputId": "0d869fc5-d231-45ec-d136-fc23c455ba7f"
      },
      "execution_count": null,
      "outputs": [
        {
          "output_type": "execute_result",
          "data": {
            "text/plain": [
              "(10065, 2)"
            ]
          },
          "metadata": {},
          "execution_count": 27
        }
      ]
    },
    {
      "cell_type": "code",
      "source": [
        "np.unique(df['category'])"
      ],
      "metadata": {
        "colab": {
          "base_uri": "https://localhost:8080/"
        },
        "id": "jZ3N9rFoVEHd",
        "outputId": "4f1554c4-d38e-437b-d9b5-d65fa1247c50"
      },
      "execution_count": null,
      "outputs": [
        {
          "output_type": "execute_result",
          "data": {
            "text/plain": [
              "array(['Electronics', 'Grocery & Gourmet Food', 'Home & Kitchen',\n",
              "       'Industrial & Scientific', 'Office Products',\n",
              "       'Tools & Home Improvement'], dtype=object)"
            ]
          },
          "metadata": {},
          "execution_count": 28
        }
      ]
    },
    {
      "cell_type": "code",
      "source": [
        "len(np.unique(df['category']))"
      ],
      "metadata": {
        "colab": {
          "base_uri": "https://localhost:8080/"
        },
        "id": "i3WJmldeVELM",
        "outputId": "45d8396d-c7f4-4998-e792-f871e0fcc22c"
      },
      "execution_count": null,
      "outputs": [
        {
          "output_type": "execute_result",
          "data": {
            "text/plain": [
              "6"
            ]
          },
          "metadata": {},
          "execution_count": 29
        }
      ]
    },
    {
      "cell_type": "code",
      "source": [
        "df=df.reset_index()"
      ],
      "metadata": {
        "id": "Xme3ZnobVok6"
      },
      "execution_count": null,
      "outputs": []
    },
    {
      "cell_type": "code",
      "source": [
        "df['title'][0]"
      ],
      "metadata": {
        "colab": {
          "base_uri": "https://localhost:8080/",
          "height": 35
        },
        "id": "VXW5dPnmVEOb",
        "outputId": "ed38e0d7-1e32-45f9-e26a-5aeed4eae15a"
      },
      "execution_count": null,
      "outputs": [
        {
          "output_type": "execute_result",
          "data": {
            "application/vnd.google.colaboratory.intrinsic+json": {
              "type": "string"
            },
            "text/plain": [
              "'Home Essentials Blue Floral Glass Vintage Style Water Goblet, Set of 4'"
            ]
          },
          "metadata": {},
          "execution_count": 32
        }
      ]
    },
    {
      "cell_type": "code",
      "source": [
        "df['title'][1]"
      ],
      "metadata": {
        "colab": {
          "base_uri": "https://localhost:8080/",
          "height": 35
        },
        "id": "udVbHaCVVxgu",
        "outputId": "09807b25-f030-44e9-d2e8-f28db7d33962"
      },
      "execution_count": null,
      "outputs": [
        {
          "output_type": "execute_result",
          "data": {
            "application/vnd.google.colaboratory.intrinsic+json": {
              "type": "string"
            },
            "text/plain": [
              "'Cooper Wiring Quiet Toggle Switch Single Pole Lighted 15 A 120 V Ivory Ul Boxed'"
            ]
          },
          "metadata": {},
          "execution_count": 33
        }
      ]
    },
    {
      "cell_type": "code",
      "source": [
        "df['title'][3]"
      ],
      "metadata": {
        "colab": {
          "base_uri": "https://localhost:8080/",
          "height": 35
        },
        "id": "aohIcec-VxkN",
        "outputId": "dfa5ab7d-88fe-4006-f996-e17466bf213a"
      },
      "execution_count": null,
      "outputs": [
        {
          "output_type": "execute_result",
          "data": {
            "application/vnd.google.colaboratory.intrinsic+json": {
              "type": "string"
            },
            "text/plain": [
              "'The Great Wave Off Kanagawa Custom Rectangle Mouse Pad Oblong Gaming Mousepad in 220mm*180mm*3mm (9&quot;*7&quot;) -912051'"
            ]
          },
          "metadata": {},
          "execution_count": 34
        }
      ]
    },
    {
      "cell_type": "code",
      "source": [
        "df['length']=df['title'].apply(len)\n",
        "df.head()"
      ],
      "metadata": {
        "colab": {
          "base_uri": "https://localhost:8080/",
          "height": 206
        },
        "id": "O0HweItAV4LZ",
        "outputId": "1fe9287e-312d-46b5-a528-79520a696d1b"
      },
      "execution_count": null,
      "outputs": [
        {
          "output_type": "execute_result",
          "data": {
            "text/html": [
              "\n",
              "  <div id=\"df-60a84f8d-fbe6-460e-92a1-f642b9e7d520\">\n",
              "    <div class=\"colab-df-container\">\n",
              "      <div>\n",
              "<style scoped>\n",
              "    .dataframe tbody tr th:only-of-type {\n",
              "        vertical-align: middle;\n",
              "    }\n",
              "\n",
              "    .dataframe tbody tr th {\n",
              "        vertical-align: top;\n",
              "    }\n",
              "\n",
              "    .dataframe thead th {\n",
              "        text-align: right;\n",
              "    }\n",
              "</style>\n",
              "<table border=\"1\" class=\"dataframe\">\n",
              "  <thead>\n",
              "    <tr style=\"text-align: right;\">\n",
              "      <th></th>\n",
              "      <th>title</th>\n",
              "      <th>category</th>\n",
              "      <th>length</th>\n",
              "    </tr>\n",
              "  </thead>\n",
              "  <tbody>\n",
              "    <tr>\n",
              "      <th>1</th>\n",
              "      <td>Home Essentials Blue Floral Glass Vintage Styl...</td>\n",
              "      <td>Home &amp; Kitchen</td>\n",
              "      <td>70</td>\n",
              "    </tr>\n",
              "    <tr>\n",
              "      <th>2</th>\n",
              "      <td>Cooper Wiring Quiet Toggle Switch Single Pole ...</td>\n",
              "      <td>Tools &amp; Home Improvement</td>\n",
              "      <td>79</td>\n",
              "    </tr>\n",
              "    <tr>\n",
              "      <th>3</th>\n",
              "      <td>Baseboarders&amp;reg; Wall Brackets</td>\n",
              "      <td>Tools &amp; Home Improvement</td>\n",
              "      <td>31</td>\n",
              "    </tr>\n",
              "    <tr>\n",
              "      <th>4</th>\n",
              "      <td>The Great Wave Off Kanagawa Custom Rectangle M...</td>\n",
              "      <td>Office Products</td>\n",
              "      <td>122</td>\n",
              "    </tr>\n",
              "    <tr>\n",
              "      <th>5</th>\n",
              "      <td>Nemcor Pittsburgh Penguins NHL #1 Ultimate Fan...</td>\n",
              "      <td>Home &amp; Kitchen</td>\n",
              "      <td>91</td>\n",
              "    </tr>\n",
              "  </tbody>\n",
              "</table>\n",
              "</div>\n",
              "      <button class=\"colab-df-convert\" onclick=\"convertToInteractive('df-60a84f8d-fbe6-460e-92a1-f642b9e7d520')\"\n",
              "              title=\"Convert this dataframe to an interactive table.\"\n",
              "              style=\"display:none;\">\n",
              "        \n",
              "  <svg xmlns=\"http://www.w3.org/2000/svg\" height=\"24px\"viewBox=\"0 0 24 24\"\n",
              "       width=\"24px\">\n",
              "    <path d=\"M0 0h24v24H0V0z\" fill=\"none\"/>\n",
              "    <path d=\"M18.56 5.44l.94 2.06.94-2.06 2.06-.94-2.06-.94-.94-2.06-.94 2.06-2.06.94zm-11 1L8.5 8.5l.94-2.06 2.06-.94-2.06-.94L8.5 2.5l-.94 2.06-2.06.94zm10 10l.94 2.06.94-2.06 2.06-.94-2.06-.94-.94-2.06-.94 2.06-2.06.94z\"/><path d=\"M17.41 7.96l-1.37-1.37c-.4-.4-.92-.59-1.43-.59-.52 0-1.04.2-1.43.59L10.3 9.45l-7.72 7.72c-.78.78-.78 2.05 0 2.83L4 21.41c.39.39.9.59 1.41.59.51 0 1.02-.2 1.41-.59l7.78-7.78 2.81-2.81c.8-.78.8-2.07 0-2.86zM5.41 20L4 18.59l7.72-7.72 1.47 1.35L5.41 20z\"/>\n",
              "  </svg>\n",
              "      </button>\n",
              "      \n",
              "  <style>\n",
              "    .colab-df-container {\n",
              "      display:flex;\n",
              "      flex-wrap:wrap;\n",
              "      gap: 12px;\n",
              "    }\n",
              "\n",
              "    .colab-df-convert {\n",
              "      background-color: #E8F0FE;\n",
              "      border: none;\n",
              "      border-radius: 50%;\n",
              "      cursor: pointer;\n",
              "      display: none;\n",
              "      fill: #1967D2;\n",
              "      height: 32px;\n",
              "      padding: 0 0 0 0;\n",
              "      width: 32px;\n",
              "    }\n",
              "\n",
              "    .colab-df-convert:hover {\n",
              "      background-color: #E2EBFA;\n",
              "      box-shadow: 0px 1px 2px rgba(60, 64, 67, 0.3), 0px 1px 3px 1px rgba(60, 64, 67, 0.15);\n",
              "      fill: #174EA6;\n",
              "    }\n",
              "\n",
              "    [theme=dark] .colab-df-convert {\n",
              "      background-color: #3B4455;\n",
              "      fill: #D2E3FC;\n",
              "    }\n",
              "\n",
              "    [theme=dark] .colab-df-convert:hover {\n",
              "      background-color: #434B5C;\n",
              "      box-shadow: 0px 1px 3px 1px rgba(0, 0, 0, 0.15);\n",
              "      filter: drop-shadow(0px 1px 2px rgba(0, 0, 0, 0.3));\n",
              "      fill: #FFFFFF;\n",
              "    }\n",
              "  </style>\n",
              "\n",
              "      <script>\n",
              "        const buttonEl =\n",
              "          document.querySelector('#df-60a84f8d-fbe6-460e-92a1-f642b9e7d520 button.colab-df-convert');\n",
              "        buttonEl.style.display =\n",
              "          google.colab.kernel.accessAllowed ? 'block' : 'none';\n",
              "\n",
              "        async function convertToInteractive(key) {\n",
              "          const element = document.querySelector('#df-60a84f8d-fbe6-460e-92a1-f642b9e7d520');\n",
              "          const dataTable =\n",
              "            await google.colab.kernel.invokeFunction('convertToInteractive',\n",
              "                                                     [key], {});\n",
              "          if (!dataTable) return;\n",
              "\n",
              "          const docLinkHtml = 'Like what you see? Visit the ' +\n",
              "            '<a target=\"_blank\" href=https://colab.research.google.com/notebooks/data_table.ipynb>data table notebook</a>'\n",
              "            + ' to learn more about interactive tables.';\n",
              "          element.innerHTML = '';\n",
              "          dataTable['output_type'] = 'display_data';\n",
              "          await google.colab.output.renderOutput(dataTable, element);\n",
              "          const docLink = document.createElement('div');\n",
              "          docLink.innerHTML = docLinkHtml;\n",
              "          element.appendChild(docLink);\n",
              "        }\n",
              "      </script>\n",
              "    </div>\n",
              "  </div>\n",
              "  "
            ],
            "text/plain": [
              "                                               title  ... length\n",
              "1  Home Essentials Blue Floral Glass Vintage Styl...  ...     70\n",
              "2  Cooper Wiring Quiet Toggle Switch Single Pole ...  ...     79\n",
              "3                    Baseboarders&reg; Wall Brackets  ...     31\n",
              "4  The Great Wave Off Kanagawa Custom Rectangle M...  ...    122\n",
              "5  Nemcor Pittsburgh Penguins NHL #1 Ultimate Fan...  ...     91\n",
              "\n",
              "[5 rows x 3 columns]"
            ]
          },
          "metadata": {},
          "execution_count": 6
        }
      ]
    },
    {
      "cell_type": "code",
      "source": [
        "df['length'].plot(bins=50,kind='hist')"
      ],
      "metadata": {
        "colab": {
          "base_uri": "https://localhost:8080/",
          "height": 282
        },
        "id": "b5OvS643Vxnf",
        "outputId": "01840b29-455e-437c-b77f-abc66e774314"
      },
      "execution_count": null,
      "outputs": [
        {
          "output_type": "execute_result",
          "data": {
            "text/plain": [
              "<matplotlib.axes._subplots.AxesSubplot at 0x7f739e385fd0>"
            ]
          },
          "metadata": {},
          "execution_count": 7
        },
        {
          "output_type": "display_data",
          "data": {
            "image/png": "[encoded data removed]",
            "text/plain": [
              "<Figure size 432x288 with 1 Axes>"
            ]
          },
          "metadata": {
            "needs_background": "light"
          }
        }
      ]
    },
    {
      "cell_type": "code",
      "source": [
        "df.length.describe()"
      ],
      "metadata": {
        "colab": {
          "base_uri": "https://localhost:8080/"
        },
        "id": "e-KQoByJW2qL",
        "outputId": "3c919cc0-0d7e-4818-8347-f2984a97da87"
      },
      "execution_count": null,
      "outputs": [
        {
          "output_type": "execute_result",
          "data": {
            "text/plain": [
              "count    10065.000000\n",
              "mean        75.221759\n",
              "std         37.548407\n",
              "min          1.000000\n",
              "25%         50.000000\n",
              "50%         68.000000\n",
              "75%         91.000000\n",
              "max        359.000000\n",
              "Name: length, dtype: float64"
            ]
          },
          "metadata": {},
          "execution_count": 37
        }
      ]
    },
    {
      "cell_type": "code",
      "source": [
        "#stopwords.words('english')"
      ],
      "metadata": {
        "id": "pmiPDV68W2to"
      },
      "execution_count": null,
      "outputs": []
    },
    {
      "cell_type": "markdown",
      "source": [
        "## Let us write a function which removes punctuation and stopwords from our data"
      ],
      "metadata": {
        "id": "xEVb5SihXkqu"
      }
    },
    {
      "cell_type": "code",
      "source": [
        "[punc for punc in string.punctuation]"
      ],
      "metadata": {
        "colab": {
          "base_uri": "https://localhost:8080/"
        },
        "id": "J01uC4VmW2w4",
        "outputId": "616b3375-02e8-4c16-ee96-2704fa700319"
      },
      "execution_count": null,
      "outputs": [
        {
          "output_type": "execute_result",
          "data": {
            "text/plain": [
              "['!',\n",
              " '\"',\n",
              " '#',\n",
              " '$',\n",
              " '%',\n",
              " '&',\n",
              " \"'\",\n",
              " '(',\n",
              " ')',\n",
              " '*',\n",
              " '+',\n",
              " ',',\n",
              " '-',\n",
              " '.',\n",
              " '/',\n",
              " ':',\n",
              " ';',\n",
              " '<',\n",
              " '=',\n",
              " '>',\n",
              " '?',\n",
              " '@',\n",
              " '[',\n",
              " '\\\\',\n",
              " ']',\n",
              " '^',\n",
              " '_',\n",
              " '`',\n",
              " '{',\n",
              " '|',\n",
              " '}',\n",
              " '~']"
            ]
          },
          "metadata": {},
          "execution_count": 8
        }
      ]
    },
    {
      "cell_type": "markdown",
      "source": [
        "#**build a custom function for text processing**"
      ],
      "metadata": {
        "id": "YL_12VvvsdRe"
      }
    },
    {
      "cell_type": "code",
      "source": [
        "def text_process(msg):\n",
        "  msg=msg.lower()\n",
        "  nopunc =[char for char in msg if char not in string.punctuation]\n",
        "  nopunc=''.join(nopunc)\n",
        "  return ' '.join([word for word in nopunc.split() if word.lower() not in stopwords.words('english')])"
      ],
      "metadata": {
        "id": "5ODPirIwW20K"
      },
      "execution_count": null,
      "outputs": []
    },
    {
      "cell_type": "code",
      "source": [
        "df['tokenized_title'] = df['title'].apply(text_process)"
      ],
      "metadata": {
        "id": "YF7zRAvwW24Q"
      },
      "execution_count": null,
      "outputs": []
    },
    {
      "cell_type": "code",
      "source": [
        "df.head()"
      ],
      "metadata": {
        "colab": {
          "base_uri": "https://localhost:8080/",
          "height": 206
        },
        "id": "gMU8OWlgW28O",
        "outputId": "95f22bdb-6cfd-4963-860b-cf68609a9497"
      },
      "execution_count": null,
      "outputs": [
        {
          "output_type": "execute_result",
          "data": {
            "text/html": [
              "\n",
              "  <div id=\"df-bef3459d-9380-4ef4-ace1-50412795ff70\">\n",
              "    <div class=\"colab-df-container\">\n",
              "      <div>\n",
              "<style scoped>\n",
              "    .dataframe tbody tr th:only-of-type {\n",
              "        vertical-align: middle;\n",
              "    }\n",
              "\n",
              "    .dataframe tbody tr th {\n",
              "        vertical-align: top;\n",
              "    }\n",
              "\n",
              "    .dataframe thead th {\n",
              "        text-align: right;\n",
              "    }\n",
              "</style>\n",
              "<table border=\"1\" class=\"dataframe\">\n",
              "  <thead>\n",
              "    <tr style=\"text-align: right;\">\n",
              "      <th></th>\n",
              "      <th>title</th>\n",
              "      <th>category</th>\n",
              "      <th>length</th>\n",
              "      <th>tokenized_title</th>\n",
              "    </tr>\n",
              "  </thead>\n",
              "  <tbody>\n",
              "    <tr>\n",
              "      <th>1</th>\n",
              "      <td>Home Essentials Blue Floral Glass Vintage Styl...</td>\n",
              "      <td>Home &amp; Kitchen</td>\n",
              "      <td>70</td>\n",
              "      <td>home essentials blue floral glass vintage styl...</td>\n",
              "    </tr>\n",
              "    <tr>\n",
              "      <th>2</th>\n",
              "      <td>Cooper Wiring Quiet Toggle Switch Single Pole ...</td>\n",
              "      <td>Tools &amp; Home Improvement</td>\n",
              "      <td>79</td>\n",
              "      <td>cooper wiring quiet toggle switch single pole ...</td>\n",
              "    </tr>\n",
              "    <tr>\n",
              "      <th>3</th>\n",
              "      <td>Baseboarders&amp;reg; Wall Brackets</td>\n",
              "      <td>Tools &amp; Home Improvement</td>\n",
              "      <td>31</td>\n",
              "      <td>baseboardersreg wall brackets</td>\n",
              "    </tr>\n",
              "    <tr>\n",
              "      <th>4</th>\n",
              "      <td>The Great Wave Off Kanagawa Custom Rectangle M...</td>\n",
              "      <td>Office Products</td>\n",
              "      <td>122</td>\n",
              "      <td>great wave kanagawa custom rectangle mouse pad...</td>\n",
              "    </tr>\n",
              "    <tr>\n",
              "      <th>5</th>\n",
              "      <td>Nemcor Pittsburgh Penguins NHL #1 Ultimate Fan...</td>\n",
              "      <td>Home &amp; Kitchen</td>\n",
              "      <td>91</td>\n",
              "      <td>nemcor pittsburgh penguins nhl 1 ultimate fan ...</td>\n",
              "    </tr>\n",
              "  </tbody>\n",
              "</table>\n",
              "</div>\n",
              "      <button class=\"colab-df-convert\" onclick=\"convertToInteractive('df-bef3459d-9380-4ef4-ace1-50412795ff70')\"\n",
              "              title=\"Convert this dataframe to an interactive table.\"\n",
              "              style=\"display:none;\">\n",
              "        \n",
              "  <svg xmlns=\"http://www.w3.org/2000/svg\" height=\"24px\"viewBox=\"0 0 24 24\"\n",
              "       width=\"24px\">\n",
              "    <path d=\"M0 0h24v24H0V0z\" fill=\"none\"/>\n",
              "    <path d=\"M18.56 5.44l.94 2.06.94-2.06 2.06-.94-2.06-.94-.94-2.06-.94 2.06-2.06.94zm-11 1L8.5 8.5l.94-2.06 2.06-.94-2.06-.94L8.5 2.5l-.94 2.06-2.06.94zm10 10l.94 2.06.94-2.06 2.06-.94-2.06-.94-.94-2.06-.94 2.06-2.06.94z\"/><path d=\"M17.41 7.96l-1.37-1.37c-.4-.4-.92-.59-1.43-.59-.52 0-1.04.2-1.43.59L10.3 9.45l-7.72 7.72c-.78.78-.78 2.05 0 2.83L4 21.41c.39.39.9.59 1.41.59.51 0 1.02-.2 1.41-.59l7.78-7.78 2.81-2.81c.8-.78.8-2.07 0-2.86zM5.41 20L4 18.59l7.72-7.72 1.47 1.35L5.41 20z\"/>\n",
              "  </svg>\n",
              "      </button>\n",
              "      \n",
              "  <style>\n",
              "    .colab-df-container {\n",
              "      display:flex;\n",
              "      flex-wrap:wrap;\n",
              "      gap: 12px;\n",
              "    }\n",
              "\n",
              "    .colab-df-convert {\n",
              "      background-color: #E8F0FE;\n",
              "      border: none;\n",
              "      border-radius: 50%;\n",
              "      cursor: pointer;\n",
              "      display: none;\n",
              "      fill: #1967D2;\n",
              "      height: 32px;\n",
              "      padding: 0 0 0 0;\n",
              "      width: 32px;\n",
              "    }\n",
              "\n",
              "    .colab-df-convert:hover {\n",
              "      background-color: #E2EBFA;\n",
              "      box-shadow: 0px 1px 2px rgba(60, 64, 67, 0.3), 0px 1px 3px 1px rgba(60, 64, 67, 0.15);\n",
              "      fill: #174EA6;\n",
              "    }\n",
              "\n",
              "    [theme=dark] .colab-df-convert {\n",
              "      background-color: #3B4455;\n",
              "      fill: #D2E3FC;\n",
              "    }\n",
              "\n",
              "    [theme=dark] .colab-df-convert:hover {\n",
              "      background-color: #434B5C;\n",
              "      box-shadow: 0px 1px 3px 1px rgba(0, 0, 0, 0.15);\n",
              "      filter: drop-shadow(0px 1px 2px rgba(0, 0, 0, 0.3));\n",
              "      fill: #FFFFFF;\n",
              "    }\n",
              "  </style>\n",
              "\n",
              "      <script>\n",
              "        const buttonEl =\n",
              "          document.querySelector('#df-bef3459d-9380-4ef4-ace1-50412795ff70 button.colab-df-convert');\n",
              "        buttonEl.style.display =\n",
              "          google.colab.kernel.accessAllowed ? 'block' : 'none';\n",
              "\n",
              "        async function convertToInteractive(key) {\n",
              "          const element = document.querySelector('#df-bef3459d-9380-4ef4-ace1-50412795ff70');\n",
              "          const dataTable =\n",
              "            await google.colab.kernel.invokeFunction('convertToInteractive',\n",
              "                                                     [key], {});\n",
              "          if (!dataTable) return;\n",
              "\n",
              "          const docLinkHtml = 'Like what you see? Visit the ' +\n",
              "            '<a target=\"_blank\" href=https://colab.research.google.com/notebooks/data_table.ipynb>data table notebook</a>'\n",
              "            + ' to learn more about interactive tables.';\n",
              "          element.innerHTML = '';\n",
              "          dataTable['output_type'] = 'display_data';\n",
              "          await google.colab.output.renderOutput(dataTable, element);\n",
              "          const docLink = document.createElement('div');\n",
              "          docLink.innerHTML = docLinkHtml;\n",
              "          element.appendChild(docLink);\n",
              "        }\n",
              "      </script>\n",
              "    </div>\n",
              "  </div>\n",
              "  "
            ],
            "text/plain": [
              "                                               title  ...                                    tokenized_title\n",
              "1  Home Essentials Blue Floral Glass Vintage Styl...  ...  home essentials blue floral glass vintage styl...\n",
              "2  Cooper Wiring Quiet Toggle Switch Single Pole ...  ...  cooper wiring quiet toggle switch single pole ...\n",
              "3                    Baseboarders&reg; Wall Brackets  ...                      baseboardersreg wall brackets\n",
              "4  The Great Wave Off Kanagawa Custom Rectangle M...  ...  great wave kanagawa custom rectangle mouse pad...\n",
              "5  Nemcor Pittsburgh Penguins NHL #1 Ultimate Fan...  ...  nemcor pittsburgh penguins nhl 1 ultimate fan ...\n",
              "\n",
              "[5 rows x 4 columns]"
            ]
          },
          "metadata": {},
          "execution_count": 11
        }
      ]
    },
    {
      "cell_type": "markdown",
      "source": [
        "#**TfidfVectorizer**"
      ],
      "metadata": {
        "id": "ixdYQFIapII5"
      }
    },
    {
      "cell_type": "code",
      "source": [
        "vectorizer =  TfidfVectorizer(analyzer='word', max_features=10000, ngram_range=(1,3), stop_words='english')\n",
        "X = vectorizer.fit_transform(df['tokenized_title'])"
      ],
      "metadata": {
        "id": "a5dtGoK8c2uC"
      },
      "execution_count": null,
      "outputs": []
    },
    {
      "cell_type": "code",
      "source": [
        "y"
      ],
      "metadata": {
        "colab": {
          "base_uri": "https://localhost:8080/"
        },
        "id": "lBwrzSxGYwZV",
        "outputId": "8a7a70cf-7f74-49ab-c5b0-d5a47648f0b4"
      },
      "execution_count": null,
      "outputs": [
        {
          "output_type": "execute_result",
          "data": {
            "text/plain": [
              "0                  Home & Kitchen\n",
              "1        Tools & Home Improvement\n",
              "2        Tools & Home Improvement\n",
              "3                 Office Products\n",
              "4                  Home & Kitchen\n",
              "                   ...           \n",
              "10060              Home & Kitchen\n",
              "10061      Grocery & Gourmet Food\n",
              "10062     Industrial & Scientific\n",
              "10063              Home & Kitchen\n",
              "10064    Tools & Home Improvement\n",
              "Name: category, Length: 10065, dtype: string"
            ]
          },
          "metadata": {},
          "execution_count": 53
        }
      ]
    },
    {
      "cell_type": "code",
      "source": [
        "print(vectorizer.get_feature_names())"
      ],
      "metadata": {
        "colab": {
          "base_uri": "https://localhost:8080/"
        },
        "id": "cMIHTZs5ac7Y",
        "outputId": "61e71344-c91f-43df-97be-5ff2a9b04b48"
      },
      "execution_count": null,
      "outputs": [
        {
          "output_type": "stream",
          "name": "stdout",
          "text": [
            "['01', '05', '05mm', '07', '10', '10 inch', '10 oz', '10 pack', '10 piece', '100', '100 cotton', '100 count', '100 egyptian', '100 egyptian cotton', '100 ft', '100 natural', '100 pure', '1000', '100percent', '100w', '102', '104', '105quot', '108', '10ft', '10inch', '10m', '10mm', '10pack', '10pcs', '10quot', '10w', '11', '11 17', '11 inch', '11 inches', '11 oz', '110', '1100', '110v', '112quot', '114', '114inch', '114quot', '115', '116quot', '11inch', '11ounce', '11oz', '11quot', '11x14', '11x17', '12', '12 12', '12 16', '12 case', '12 count', '12 inch', '12 inches', '12 ounce', '12 oz', '12 pack', '120', '1200', '1200 thread', '1200 thread count', '120v', '125', '125quot', '128', '12count', '12cup', '12inch', '12mm', '12ounce', '12pack', '12pcs', '12quot', '12quot 12quot', '12quot length', '12quot width', '12v', '12volt', '12w', '12x18', '13', '13 19in', '13 inch', '135', '13inch', '13quot', '13w', '14', '14 inch', '14 inches', '14 oz', '141', '144', '145', '145 oz', '14inch', '14ounce', '14oz', '14quot', '15', '15 oz', '150', '1500', '1500 thread', '1500 thread count', '1516quot', '158', '15inch', '15ounce', '15quot', '16', '16 16', '16 inch', '16 inches', '16 ounce', '16 oz', '160', '165quot', '16inch', '16mm', '16ounce', '16oz', '16piece', '16quot', '16x16', '16x20', '17', '17 inches', '17 oz', '175', '17inch', '17ounce', '17oz', '17quot', '18', '18 12', '18 18', '18 inch', '18 inches', '18 oz', '180', '1800', '1800 series', '1810', '1810 stainless', '1810 stainless steel', '185', '18650', '18650 battery', '188', '188 stainless', '188 stainless steel', '18in', '18inch', '18mm', '18oz', '18quot', '18quotx18quot', '18v', '18volt', '18x18', '19', '1996', '19in', '19quot', '1inch', '1kg', '1lb', '1light', '1pack', '1pair', '1pc', '1pcs', '1quot', '20', '20 oz', '20 pack', '200', '2000', '2010', '2011', '2012', '2013', '2014', '2015', '2015 wall', '2015 wall calendar', '2016', '2017', '2018', '20inch', '20quot', '20x30', '20x36', '21', '212quot', '21quot', '22', '22 lbs', '220', '220v', '225', '22quot', '23', '24', '24 36', '24 inch', '24 inches', '24 oz', '24 pack', '240', '240v', '24inch', '24quot', '24quot 24quot', '24quot 36quot', '24quotx24quot', '24x36', '25', '25 inch', '25 pack', '25 pcs', '250', '250g', '250v', '25mm', '25quot', '26', '26 ounce', '26 oz', '26quot', '27', '2700k', '275', '27quot', '27x40', '28', '28 oz', '28mm', '28quot', '29', '29quot', '2in1', '2inch', '2light', '2line', '2mm', '2pack', '2pc', '2pcs', '2piece', '2pk', '2quot', '2quotx3quot', '2quotx3quot refrigerator', '2quotx3quot refrigerator magnet', '2slice', '2x', '30', '30 40', '30 count', '30 inch', '30 inches', '30 watt', '300', '300 thread', '300 thread count', '3000', '3000k', '30inch', '30quot', '31', '312inch', '312quot', '315', '316', '316quot', '32', '32 ounce', '32 oz', '325', '325quot', '32inch', '32ounce', '32quot', '33', '332quot', '334quot', '33quot', '34', '34 inch', '34inch', '34quot', '35', '35 oz', '35cm', '35quot', '36', '36 inch', '360', '36in', '36quot', '38', '38inch', '38quot', '39', '39quot', '3d', '3d printer', '3drose', '3drose llc', '3in1', '3inch', '3light', '3m', '3mm', '3pack', '3pc', '3pcs', '3piece', '3quot', '3w', '3way', '40', '400', '400 thread', '400 thread count', '40w', '4100k', '412inch', '42', '425', '425quot', '43', '44', '440', '45', '450', '45inch', '45mm', '45quot', '46', '46quot', '47', '48', '48inch', '48quot', '48quot length', '49', '4gb', '4inch', '4light', '4mm', '4ounce', '4oz', '4pack', '4pc', '4pcs', '4piece', '4pk', '4quot', '4quotx6quot', '4th', '4x6', '50', '50 led', '50 pcs', '50 qty', '50 sheets', '500', '5000k', '500g', '5050', '50inch', '50pack', '50pcs', '50quot', '50w', '516quot', '51quot', '51quot 60quot', '52', '52quot', '53', '54', '54quot', '55', '550', '55quot', '56', '56quot', '57', '575quot', '58', '58inch', '58quot', '59', '5d', '5feet', '5ft', '5inch', '5lb', '5m', '5oz', '5pack', '5pc', '5pcs', '5piece', '5quot', '5w', '5x7', '60', '600', '600 thread', '600 thread count', '6000k', '60inch', '60quot', '60quot 72quot', '60w', '61', '61cm', '62', '63quot', '64', '65', '65inch', '65quot', '66', '66quot', '66quot 72quot', '67', '675', '69quotx70quot', '6ft', '6in', '6inch', '6mm', '6ounce', '6pack', '6piece', '6quot', '6quot length', '70', '7000', '70inch', '70quot', '72', '72inch', '72quot', '75', '750', '75quot', '78', '78quot', '79', '7feet', '7inch', '7quot', '80', '800', '82', '84', '84inch', '84quot', '85', '85 11', '85quot', '86', '86quot', '88', '8feet', '8inch', '8mm', '8ounce', '8ounce pack', '8oz', '8piece', '8quot', '8x10', '8x10 photo', '90', '90 degree', '900', '95', '95quot', '96', '9inch', '9quot', 'a1', 'a2', 'a4', 'a5', 'aa', 'abs', 'absorbent', 'abstract', 'ac', 'ac 110v', 'ac adapter', 'accent', 'accents', 'access', 'accessories', 'accessory', 'accessory set', 'acdc', 'ace', 'acid', 'acrylic', 'action', 'activated', 'adapter', 'address', 'adhesive', 'adjustable', 'adjustment', 'adler', 'adult', 'adventure', 'african', 'aftermarket', 'agate', 'age', 'aged', 'aid', 'air', 'air compressor', 'air conditioner', 'air filter', 'air purifier', 'airplane', 'airtight', 'al', 'alabama', 'alarm', 'alarm clock', 'album', 'ale', 'alert', 'alice', 'alkaline', 'alkaline water', 'allclad', 'allen', 'allied', 'alligator', 'allinone', 'alloy', 'almond', 'almonds', 'alphabet', 'alternative', 'alternative comforter', 'aluminum', 'amazing', 'amazon', 'amber', 'amber glass', 'america', 'american', 'american standard', 'amerock', 'amish', 'amp', 'amp blue', 'amp body', 'amp body works', 'amp decker', 'amp fade', 'amp fade resistant', 'amp pepper', 'amp sons', 'amp white', 'analog', 'anchor', 'android', 'angel', 'angels', 'angle', 'animal', 'animal print', 'animals', 'anime', 'anime fabric', 'anime fabric wall', 'anniversary', 'anodized', 'anodized aluminum', 'ansi', 'answering', 'antenna', 'anti', 'antioxidants', 'antique', 'antique brass', 'antique bronze', 'antique gold', 'antiqued', 'antislip', 'anvil', 'apple', 'apples', 'appliance', 'appointment', 'approx', 'approximately', 'apricot', 'apron', 'aqua', 'arbor', 'arc', 'architectural', 'archival', 'area', 'area rug', 'area rug 5feet', 'area rugs', 'arizona', 'arm', 'arms', 'army', 'aroma', 'aromatherapy', 'aromatic', 'arrow', 'arrows', 'art', 'art abstract', 'art decal', 'art decal sticker', 'art decor', 'art glass', 'art home', 'art poster', 'art poster print', 'art print', 'art print entitled', 'art print poster', 'art print wall', 'art wall', 'artificial', 'artist', 'artistic', 'arts', 'artwork', 'ash', 'ashley', 'asian', 'aspire', 'assembly', 'assisted', 'assorted', 'assorted colors', 'assortment', 'astm', 'ataglance', 'attached', 'attachment', 'attractive', 'audio', 'august', 'aurora', 'authentic', 'auto', 'automatic', 'automotive', 'autumn', 'av', 'available', 'avengers', 'avery', 'aviditi', 'avocado', 'awg', 'az', 'baby', 'baby shower', 'backdrop', 'backed', 'background', 'backing', 'backlight', 'backlit', 'backpack', 'bad', 'badge', 'badge holder', 'badge reel', 'bag', 'bag cloth', 'bag cloth shopping', 'bag pack', 'bag set', 'bagless', 'bags', 'bags pack', 'bags pack 12', 'bake', 'bakery', 'bakeware', 'baking', 'balance', 'baldwin', 'ball', 'ball end', 'ball ornament', 'ball valve', 'ballet', 'balloon', 'balloons', 'ballpoint', 'ballpoint pen', 'balls', 'bamboo', 'banana', 'band', 'band saw', 'bands', 'bank', 'banner', 'bar', 'bar stool', 'barbecue', 'barbed', 'barber', 'barcode', 'barcode scanner', 'bare', 'bark', 'barn', 'barrel', 'bars', 'barstool', 'barware', 'base', 'based', 'basic', 'basics', 'basket', 'bath', 'bath amp', 'bath amp body', 'bath mat', 'bath rug', 'bath shower', 'bath towel', 'bath towels', 'bathroom', 'bathroom accessories', 'bathroom decor', 'bathroom faucet', 'bathroom shower', 'bathroom shower curtain', 'bathroom sink', 'bathroom vanity', 'batman', 'batteries', 'battery', 'battery charger', 'battery operated', 'battery powered', 'bay', 'bazic', 'bbq', 'beach', 'beach towel', 'bead', 'beaded', 'beads', 'beam', 'bean', 'beans', 'bear', 'bearing', 'bears', 'beatles', 'beautiful', 'beauty', 'bed', 'bed bag', 'bed bag set', 'bed frame', 'bed sheet', 'bed sheet set', 'bed skirt', 'bedding', 'bedding set', 'bedroom', 'bedroom living', 'bedroom living room', 'bedspread', 'bee', 'beef', 'beer', 'beige', 'beistle', 'bell', 'bella', 'belle', 'bells', 'belly', 'belt', 'bench', 'bento', 'benzara', 'berries', 'berry', 'best', 'better', 'betty', 'beveled', 'beverage', 'bible', 'bicycle', 'bidet', 'big', 'bike', 'bin', 'binder', 'birch', 'bird', 'birds', 'birthday', 'birthday card', 'birthday gift', 'birthday party', 'biscuit', 'bit', 'bit set', 'bits', 'black', 'black amp', 'black amp decker', 'black amp white', 'black color', 'black finish', 'black ink', 'black ink cartridge', 'black leather', 'black oxide', 'black pack', 'black tea', 'black toner', 'black vinyl', 'black white', 'blackberry', 'blacklight', 'blackout', 'blackwhite', 'blade', 'blades', 'blank', 'blank cards', 'blanket', 'blankets', 'blend', 'blend linen', 'blender', 'bling', 'blk', 'block', 'block set', 'blocks', 'blood', 'bloody', 'bloody mary', 'bloom', 'blossom', 'blow', 'blower', 'blown', 'blue', 'blue amp', 'blue color', 'blue green', 'blue ink', 'blue raspberry', 'blue white', 'blueberry', 'bluetooth', 'board', 'board set', 'boat', 'body', 'body works', 'bohemian', 'bold', 'bolt', 'bolts', 'bon', 'bone', 'bone china', 'bonus', 'book', 'bookcase', 'bookends', 'bookmark', 'books', 'boot', 'border', 'bore', 'bosch', 'boston', 'bottle', 'bottle holder', 'bottle opener', 'bottle opener foil', 'bottle pack', 'bottle stopper', 'bottles', 'bound', 'bouquet', 'bourbon', 'bow', 'bowl', 'bowl set', 'bowls', 'box', 'box 100', 'box 12', 'box 25', 'box black', 'box pack', 'boxed', 'boxes', 'boxes pack', 'boy', 'boys', 'boys girls', 'bpa', 'bpa free', 'br30', 'bracket', 'brackets', 'bradford', 'bradley', 'braided', 'brake', 'branch', 'branches', 'brand', 'brand new', 'brands', 'brass', 'brass finish', 'brazil', 'brazilian', 'bread', 'break', 'breaker', 'breakfast', 'breaking', 'breeze', 'brew', 'brewer', 'brewers', 'brewing', 'brick', 'bridal', 'bridge', 'bright', 'bright finish', 'bright led', 'brightness', 'bristle', 'british', 'bronze', 'bronze finish', 'broom', 'brother', 'brothers', 'brown', 'brownie', 'browning', 'brownlow', 'brush', 'brushed', 'brushed nickel', 'btu', 'bubble', 'bucket', 'bud', 'buddha', 'buddy', 'buffalo', 'buffet', 'building', 'built', 'bulb', 'bulbs', 'bulk', 'bull', 'bumper', 'bumper sticker', 'bundle', 'bunk', 'burgundy', 'burlap', 'business', 'business card', 'business card holder', 'butler', 'butter', 'butter dish', 'butterflies', 'butterfly', 'button', 'cabinet', 'cabinet drawer', 'cabinet hardware', 'cabinet hardware handle', 'cabinet knob', 'cable', 'cadbury', 'caddy', 'cafe', 'cafepress', 'cake', 'cake pan', 'cake topper', 'cakes', 'cal', 'calculator', 'calendar', 'calendar 2016', 'california', 'calm', 'camera', 'camo', 'camp', 'campbell', 'campbells', 'camper', 'camping', 'canada', 'candelabra', 'candies', 'candle', 'candle holder', 'candle holders', 'candles', 'candy', 'candy mold', 'cane', 'canister', 'canon', 'cans', 'cans pack', 'canvas', 'canvas art', 'canvas print', 'canvas prints', 'canvas tote', 'canvas wall', 'canvas wall art', 'cap', 'capacitor', 'capacity', 'cappuccino', 'caps', 'capsules', 'captain', 'car', 'car decal', 'car window', 'car window wall', 'carafe', 'caramel', 'carb', 'carbide', 'carbon', 'carbon steel', 'card', 'card holder', 'cardboard', 'carded', 'cardinal', 'cards', 'care', 'carolina', 'carolines', 'carolines treasures', 'carousel', 'carpet', 'carry', 'carrying', 'carrying case', 'cars', 'carson', 'carson dellosa', 'cart', 'cartoon', 'cartridge', 'cartridge replacement', 'cartridge replacement hp', 'cartridges', 'carved', 'carving', 'case', 'case 12', 'case cover', 'case cushion', 'case cushion cover', 'cases', 'cash', 'cast', 'cast iron', 'caster', 'casters', 'cat', 'catcher', 'category', 'cats', 'cd', 'cedar', 'ceiling', 'ceiling fan', 'ceiling light', 'ceiling mount', 'celebration', 'cell', 'celtic', 'cement', 'center', 'centerpiece', 'centers', 'centerset', 'ceramic', 'ceramic coffee', 'ceramic coffee mug', 'ceramic mug', 'ceramic tile', 'cereal', 'certificate', 'certified', 'certified refurbished', 'cfl', 'chai', 'chain', 'chair', 'chair black', 'chalk', 'chalkboard', 'champagne', 'chandelier', 'change', 'changing', 'chanukah', 'character', 'characters', 'charcoal', 'charger', 'charging', 'charles', 'charlie', 'charm', 'charms', 'chart', 'check', 'cheddar', 'cheese', 'chef', 'chefs', 'cherries', 'cherry', 'chest', 'chevron', 'chewy', 'chic', 'chicago', 'chicken', 'child', 'children', 'childrens', 'chile', 'chili', 'chiller', 'chimes', 'chimney', 'china', 'chinese', 'chip', 'chips', 'chisel', 'chocolate', 'chocolate bar', 'chocolate candy', 'chocolate candy mold', 'chocolate chip', 'chocolate mold', 'chocolates', 'choice', 'choose', 'chop', 'christ', 'christmas', 'christmas gift', 'christmas holiday', 'christmas ornament', 'christmas ornaments', 'christmas stocking', 'christmas tree', 'christmas tree ornament', 'chrome', 'chrome finish', 'chrome plated', 'chuck', 'cinema', 'cinnamon', 'circle', 'circuit', 'circular', 'circular saw', 'citrus', 'city', 'clamp', 'clark', 'class', 'classic', 'classics', 'classroom', 'claude', 'claude monet', 'claus', 'clean', 'cleaner', 'cleaning', 'clear', 'clear acrylic', 'clear glass', 'clear plastic', 'clip', 'clipboard', 'clips', 'clock', 'clock unique', 'clock unique decorative', 'closet', 'closet organizer', 'closure', 'cloth', 'clothes', 'clover', 'club', 'cm', 'coach', 'coarse', 'coast', 'coastal', 'coaster', 'coaster set', 'coasters', 'coasters set', 'coat', 'coat rack', 'coated', 'coating', 'cobalt', 'cocktail', 'cocoa', 'coconut', 'coffee', 'coffee cup', 'coffee mug', 'coffee mug tea', 'coffee table', 'coffee tea', 'coil', 'coin', 'coin holder', 'coins', 'cola', 'colander', 'cold', 'coleman', 'collage', 'collage frame', 'collapsible', 'collar', 'collectible', 'collection', 'collections', 'collector', 'collectors', 'college', 'colonial', 'color', 'color black', 'color changing', 'colored', 'colorful', 'colors', 'colors available', 'columbian', 'column', 'combination', 'combination wrench', 'combo', 'combo kit', 'comfort', 'comfortable', 'comforter', 'comforter set', 'comforter set king', 'comforter set queen', 'comic', 'comics', 'commercial', 'commercial grade', 'compact', 'compact fluorescent', 'company', 'compartment', 'compatible', 'compatible toner', 'compatible toner cartridge', 'complete', 'composite', 'compound', 'compression', 'compressor', 'computer', 'concentrate', 'concepts', 'concrete', 'conditioner', 'cone', 'cones', 'confetti', 'connector', 'connectors', 'console', 'construction', 'contact', 'container', 'containers', 'contemporary', 'continental', 'continuous', 'contour', 'control', 'controlled', 'controller', 'controls', 'convection', 'converter', 'convertible', 'converting', 'cook', 'cooker', 'cookie', 'cookie cutter', 'cookie jar', 'cookies', 'cooking', 'cookware', 'cool', 'cool white', 'cooler', 'cooling', 'copier', 'copper', 'copper wire', 'copy', 'coral', 'cord', 'corded', 'cordless', 'cordless lithiumion', 'cordless phone', 'core', 'corelle', 'cork', 'cork screw', 'corkscrew', 'corn', 'corner', 'corners', 'corporate', 'corrugated', 'cosmas', 'cosmetic', 'cottage', 'cotton', 'cotton linen', 'cotton sateen', 'count', 'count egyptian', 'count pack', 'counter', 'counter height', 'counterart', 'countertop', 'country', 'couple', 'coupler', 'coupling', 'court', 'cover', 'cover cushion', 'cover cushion case', 'cover set', 'covered', 'coverlet', 'covers', 'cow', 'cowboy', 'cozy', 'cr', 'cracker', 'crackers', 'craft', 'crafted', 'crafts', 'craftsman', 'cranberry', 'cream', 'creamer', 'creamy', 'creative', 'creative converting', 'credit', 'credit card', 'cree', 'creek', 'creuset', 'crl', 'crocker', 'croscill', 'cross', 'crown', 'crunch', 'crunchy', 'crusher', 'crystal', 'crystal clear', 'crystal light', 'crystals', 'cs', 'ct', 'cube', 'cubes', 'cuisinart', 'culinary', 'cup', 'cupboard', 'cupcake', 'cupcakes', 'cups', 'current', 'curry', 'curtain', 'curtain hooks', 'curtain panel', 'curtain panels', 'curtain rod', 'curtains', 'curved', 'cushion', 'cushion case', 'cushion cover', 'cushion covers', 'custom', 'customized', 'cut', 'cute', 'cutlery', 'cutter', 'cutters', 'cutting', 'cutting board', 'cyan', 'cybrtrayd', 'cylinder', 'da', 'da vinci', 'dad', 'daily', 'daisy', 'damascus', 'damask', 'dancing', 'dark', 'dark blue', 'dark brown', 'dark chocolate', 'darth', 'data', 'daughter', 'david', 'day', 'daylight', 'days', 'dc', 'dc25', 'deacutecor', 'dead', 'deal', 'death', 'decaf', 'decal', 'decal sticker', 'decal vinyl', 'decal wall', 'decals', 'decanter', 'december', 'deck', 'decker', 'deco', 'deco 79', 'decor', 'decor art', 'decor travel', 'decor travel poster', 'decor wall', 'decorating', 'decoration', 'decorations', 'decorative', 'decorative cushion', 'decorative pillow', 'decorative throw', 'decorative throw pillow', 'decorative wall', 'deep', 'deep pocket', 'deer', 'degree', 'degrees', 'del', 'delight', 'dell', 'dellosa', 'delta', 'deluxe', 'density', 'density polyethylene', 'department', 'department 56', 'depot', 'depth', 'desert', 'design', 'design toscano', 'designed', 'designer', 'designs', 'desk', 'desk calendar', 'desk lamp', 'desk pad', 'desktop', 'dessert', 'detector', 'device', 'devil', 'dewalt', 'dia', 'diameter', 'diamond', 'diary', 'die', 'diet', 'different', 'diffuser', 'digital', 'digital camera', 'digital kitchen', 'dimmable', 'dimmable led', 'dimmer', 'dining', 'dining room', 'dining table', 'dinner', 'dinner plate', 'dinnerware', 'dinnerware set', 'dinosaur', 'dipped', 'dirt', 'dirt devil', 'disc', 'disco', 'discontinued', 'discontinued manufacturer', 'dish', 'dishwasher', 'dishwasher safe', 'disney', 'disney frozen', 'disney mickey', 'disney princess', 'dispenser', 'display', 'displays2go', 'disposable', 'distressed', 'diy', 'dj', 'dock', 'doctor', 'document', 'dog', 'dogs', 'doll', 'dome', 'doolittle', 'door', 'doorbell', 'doors', 'dorm', 'dot', 'dots', 'double', 'double sided', 'double toggle', 'double toggle switch', 'double wall', 'doublesided', 'doublewall', 'dough', 'doulton', 'dove', 'dozen', 'dr', 'draft', 'dragon', 'dragonfly', 'dragons', 'drain', 'drape', 'drapery', 'drapes', 'drawer', 'drawers', 'drawing', 'drawstring', 'dream', 'dreams', 'dremel', 'dress', 'dress cupcake', 'dressing', 'dried', 'drill', 'drill bit', 'drilldriver', 'drink', 'drink coaster', 'drink mix', 'drinking', 'drinks', 'drinkware', 'drip', 'drive', 'driver', 'drop', 'drops', 'drum', 'dry', 'dry erase', 'drywall', 'dslr', 'dual', 'duck', 'ducks', 'duct', 'dummy', 'duo', 'durable', 'durometer', 'dust', 'duty', 'duvet', 'duvet cover', 'duvet cover set', 'dvd', 'dye', 'dyed', 'dymo', 'dynamix', 'dyson', 'dyson dc25', 'e12', 'e26', 'e27', 'ea', 'eagle', 'earl', 'earl grey', 'earth', 'easel', 'east', 'easter', 'easter egg', 'easy', 'easy clean', 'easy install', 'easy use', 'eat', 'eaton', 'echo', 'eco', 'eco friendly', 'ecofriendly', 'economical', 'economy', 'edge', 'edible', 'edison', 'edition', 'egg', 'egyptian', 'egyptian bedding', 'egyptian cotton', 'egyptian quality', 'eiffel', 'eiffel tower', 'el', 'elastic', 'electric', 'electrical', 'electrolux', 'electronic', 'electronics', 'elegance', 'elegant', 'elegant comfort', 'elements', 'elephant', 'elite', 'elk', 'elongated', 'elvis', 'elvis presley', 'embossed', 'embroidered', 'embroidery', 'emergency', 'empire', 'enamel', 'enclosure', 'end', 'end table', 'energy', 'energy saving', 'energy star', 'enesco', 'engine', 'engineered', 'england', 'english', 'engraved', 'enhanced', 'enterprises', 'entertainment', 'entitled', 'entry', 'envelope', 'envelopes', 'eos', 'epson', 'equal', 'equipment', 'equivalent', 'erase', 'ergonomic', 'esp', 'espresso', 'essential', 'essential oils', 'essentials', 'etched', 'eureka', 'euro', 'european', 'events', 'evergreen', 'everyday', 'exclusive', 'executive', 'exhaust', 'expandable', 'express', 'extended', 'extension', 'exterior', 'external', 'extra', 'extra large', 'extra long', 'extra virgin', 'extractor', 'eye', 'eyeglass', 'eyewear', 'fabric', 'fabric cloth', 'fabric shower', 'fabric shower curtain', 'fabric wall', 'fabric wall scroll', 'face', 'factory', 'fade', 'fade resistant', 'fairy', 'fall', 'family', 'famous', 'fan', 'fan motor', 'fan pull', 'fancy', 'fans', 'farberware', 'farm', 'farmhouse', 'farms', 'fashion', 'fashioned', 'fashions', 'fast', 'fastener', 'fastenere', 'fasteners', 'fat', 'fat free', 'fathead', 'father', 'fathers', 'fathers day', 'faucet', 'faucet brushed', 'faucet brushed nickel', 'faucets', 'faux', 'faux fur', 'faux leather', 'faux silk', 'favor', 'favorite', 'favors', 'fax', 'fc', 'fda', 'fe', 'feather', 'feature', 'featuring', 'feet', 'felt', 'female', 'fence', 'feng', 'feng shui', 'festive', 'fiber', 'fiberglass', 'field', 'fiesta', 'figure', 'figurine', 'figurines', 'filament', 'file', 'file folder', 'file folders', 'filled', 'filler', 'film', 'filofax', 'filter', 'filters', 'finder', 'fine', 'fine art', 'fine art print', 'fine point', 'finest', 'finger', 'finial', 'finish', 'finished', 'fireplace', 'fish', 'fishing', 'fit', 'fits', 'fitted', 'fitted sheet', 'fitting', 'fixture', 'fixtures', 'fl', 'fl oz', 'flag', 'flags', 'flakes', 'flame', 'flame resistant', 'flame tip', 'flameless', 'flamingo', 'flange', 'flannel', 'flap', 'flash', 'flashing', 'flashlight', 'flashlight torch', 'flashlight torch lamp', 'flask', 'flat', 'flat head', 'flat panel', 'flat sheet', 'flat washer', 'flatware', 'flatware set', 'flatware set service', 'flavor', 'flavored', 'flavoring', 'flavors', 'flax', 'fleece', 'fleece blanket', 'fleur', 'fleur lis', 'flex', 'flexible', 'flickering', 'flight', 'flip', 'float', 'floating', 'flocking', 'flood', 'flood light', 'floodlight', 'floor', 'floor lamp', 'floors', 'floral', 'floral design', 'florentine', 'florida', 'flour', 'flow', 'flower', 'flowers', 'floyd', 'fluid', 'fluid ounce', 'fluorescent', 'fluorescent tube', 'fluorescent tube light', 'flush', 'flush mount', 'flute', 'flying', 'foam', 'foam mattress', 'foil', 'foil cutter', 'fold', 'foldable', 'folder', 'folders', 'folding', 'folding knife', 'folding storage', 'folio', 'folk', 'fondant', 'fontanini', 'food', 'food grade', 'food storage', 'foods', 'foot', 'football', 'footrest', 'force', 'forest', 'forever', 'forged', 'fork', 'form', 'forstner', 'fountain', 'fountain pen', 'fountain pen medium', 'fox', 'fragrance', 'fragrant', 'frame', 'frame black', 'framed', 'framed art', 'framed art print', 'framed ready', 'framed ready hang', 'framed wall', 'frames', 'france', 'francisco', 'frank', 'franklin', 'free', 'free shipping', 'free standing', 'french', 'french vanilla', 'fresh', 'fridge', 'fridge magnet', 'friend', 'friendly', 'friends', 'friendship', 'frigidaire', 'frog', 'frontier', 'frost', 'frosted', 'frozen', 'fruit', 'fruits', 'fry', 'fry pan', 'ft', 'fudge', 'fullqueen', 'fully', 'fully stitched', 'fun', 'function', 'functions', 'funnel', 'funny', 'fur', 'furnace', 'furnishings', 'furniture', 'fuse', 'futon', 'g4', 'gal', 'galaxy', 'gallery', 'gallery wrapped', 'gallon', 'galvanized', 'game', 'gaming', 'gaming mouse', 'gaming mouse pad', 'gang', 'garage', 'garden', 'gardens', 'garland', 'garlic', 'garment', 'gas', 'gasket', 'gauge', 'gb', 'ge', 'gear', 'gearwrench', 'gel', 'gel ink', 'general', 'generation', 'generic', 'genie', 'genuine', 'genuine original', 'geometric', 'george', 'german', 'german shepherd', 'ghirardelli', 'giant', 'gibson', 'giclee', 'gift', 'gift basket', 'gift box', 'gift coffee', 'gift company', 'gift set', 'gifts', 'giftware', 'ginger', 'girl', 'girls', 'glass', 'glass blown', 'glass bottle', 'glass jar', 'glass ornament', 'glass set', 'glass shade', 'glass vase', 'glass vessel', 'glass vessel sink', 'glasses', 'glassware', 'glazed', 'glitter', 'global', 'globe', 'gloss', 'glossy', 'glossy photo', 'glove', 'gloves', 'glow', 'glue', 'gluten', 'gluten free', 'glutenfree', 'glutino', 'goblet', 'god', 'goddess', 'godinger', 'gogh', 'gold', 'gold finish', 'gold tone', 'golden', 'golf', 'good', 'good grips', 'goods', 'google', 'goose', 'gooseneck', 'gorgeous', 'got', 'gourmet', 'gpm', 'gps', 'gr', 'grade', 'graduation', 'graffiti', 'graham', 'grain', 'gram', 'grand', 'grandma', 'grandpa', 'granite', 'granola', 'granola bars', 'grape', 'grapefruit', 'graphic', 'graphics', 'graphite', 'gras', 'grass', 'grater', 'gray', 'grease', 'great', 'great gift', 'greek', 'green', 'green amp', 'green tea', 'green white', 'greenlee', 'greeting', 'greeting card', 'greeting cards', 'greetings', 'grey', 'grid', 'griddle', 'grill', 'grille', 'grilling', 'grinder', 'grip', 'grips', 'grit', 'grizzly', 'grocery', 'grommet', 'grommets', 'ground', 'ground coffee', 'grounding', 'group', 'grout', 'grown', 'growth', 'growth chart', 'gsm', 'gu10', 'guarantee', 'guard', 'guest', 'guide', 'guitar', 'gum', 'gumballs', 'gummi', 'gummy', 'gun', 'guy', 'gym', 'habanero', 'hair', 'hakko', 'half', 'halide', 'hallmark', 'hallmark 2014', 'hallmark keepsake', 'hallmark keepsake ornament', 'halloween', 'hallway', 'halogen', 'halogen replacement', 'hamburger', 'hammer', 'hammered', 'hamper', 'hampton', 'hand', 'hand carved', 'hand held', 'hand painted', 'hand poured', 'hand towel', 'hand tufted', 'handbag', 'handcrafted', 'handheld', 'handle', 'handle pull', 'handles', 'handmade', 'handpainted', 'hands', 'hang', 'hanger', 'hangers', 'hanging', 'hanging lantern', 'happy', 'happy birthday', 'hard', 'hard candy', 'hardboard', 'hardware', 'hardware handle', 'hardwood', 'harry', 'harry potter', 'harvest', 'hat', 'hawaii', 'hawaiian', 'hazelnut', 'hd', 'head', 'head cap', 'headboard', 'headlamp', 'headlight', 'headset', 'health', 'healthy', 'heart', 'hearts', 'heat', 'heat gun', 'heat resistant', 'heat sensitive', 'heater', 'heaven', 'heavy', 'heavy duty', 'heavyduty', 'heavyweight', 'height', 'height adjustable', 'held', 'hellip', 'hello', 'hello kitty', 'helmet', 'hem', 'hemp', 'henckels', 'hepa', 'herb', 'herb grinder', 'herbal', 'herbal tea', 'heritage', 'hero', 'hersheys', 'hex', 'hi', 'hickory', 'high', 'high density', 'high heat', 'high performance', 'high power', 'high quality', 'high speed', 'high yield', 'hill', 'hillman', 'hillman group', 'hills', 'himalayan', 'himalayan salt', 'hinge', 'hinged', 'hip', 'hip flask', 'hippie', 'hitachi', 'hold', 'holder', 'holder silver', 'holder stand', 'holders', 'holding', 'holds', 'hole', 'hole centers', 'hole saw', 'holes', 'holiday', 'holiday gift', 'holiday ornament', 'holidays', 'hollow', 'holly', 'holster', 'holy', 'home', 'home amp', 'home basics', 'home collection', 'home decor', 'home decoration', 'home decorative', 'home essentials', 'home fashions', 'home furnishings', 'home goods', 'home office', 'homes', 'honey', 'honeywell', 'hook', 'hooks', 'hoover', 'hope', 'horizontal', 'horn', 'horse', 'horses', 'hose', 'hosley', 'hot', 'hot pink', 'hotel', 'hour', 'hours', 'house', 'house doolittle', 'household', 'housewarming', 'housing', 'hp', 'hqrp', 'hs', 'htc', 'hub', 'huge', 'huge poster', 'human', 'humidifier', 'humor', 'hunter', 'hunting', 'huntington', 'hvac', 'hybrid', 'hydrangea', 'hydraulic', 'hypoallergenic', 'ice', 'ice bucket', 'ice cream', 'ice cream scoop', 'ice cube', 'ice tray', 'iced', 'iced tea', 'icicle', 'icing', 'icup', 'id', 'id badge', 'id card', 'id holder', 'idea', 'ideal', 'ideas', 'ii', 'iii', 'ikea', 'im', 'image', 'image size', 'imageclass', 'imagine', 'imax', 'impact', 'impact driver', 'impact socket', 'impact wrench', 'imperial', 'import', 'imported', 'impression', 'impressions', 'impulse', 'incandescent', 'incense', 'incense sticks', 'inch', 'inch 24', 'inch 24 inch', 'inch set', 'inches', 'inches black', 'included', 'includes', 'index', 'india', 'indian', 'indicator', 'indoor', 'indoor outdoor', 'indooroutdoor', 'industrial', 'industrial grade', 'industries', 'infrared', 'infused', 'infuser', 'inhouse', 'ink', 'ink cartridge', 'ink cartridge replacement', 'ink cartridges', 'inking', 'inkjet', 'inline', 'inner', 'insert', 'inserts', 'inside', 'inspirational', 'inspired', 'install', 'installation', 'instant', 'instruments', 'insulated', 'insulated lunch', 'insulated travel', 'insulation', 'integrated', 'interdesign', 'interior', 'international', 'invitation', 'invitations', 'ion', 'ip', 'ip65', 'ipad', 'ipad mini', 'iphone', 'ipod', 'ir', 'irish', 'iron', 'irwin', 'island', 'italian', 'italy', 'item', 'items', 'ivory', 'jack', 'jacket', 'jackson', 'jacquard', 'jalapeno', 'jam', 'japan', 'japan import', 'japanese', 'jar', 'jar candle', 'jars', 'jars pack', 'jasmine', 'jelly', 'jelly belly', 'jesus', 'jet', 'jewelers', 'jewelry', 'jewelry box', 'jim', 'jim shore', 'joes', 'john', 'joint', 'jojo', 'journal', 'joy', 'judaica', 'juice', 'juicer', 'july', 'jumbo', 'jumper', 'junction', 'jungle', 'justin', 'jute', 'kate', 'kathy', 'kcup', 'kcups', 'keeper', 'keepsake', 'keepsake ornament', 'kensington', 'kess', 'kess inhouse', 'kettle', 'keurig', 'kevlar', 'key', 'key chain', 'key ring', 'keyboard', 'keychain', 'keychain key', 'keyed', 'keyless', 'keypad', 'keyring', 'kg', 'kichler', 'kids', 'kids room', 'kind', 'king', 'king comforter', 'king size', 'kingdom', 'kings', 'kings brand', 'kingston', 'kingston brass', 'kit', 'kitchen', 'kitchen cabinet', 'kitchen dining', 'kitchen faucet', 'kitchen scale', 'kitchen sink', 'kitchenaid', 'kitty', 'klein', 'knife', 'knife set', 'knight', 'knit', 'knives', 'knob', 'knobs', 'kohler', 'korean', 'kosher', 'koyal', 'kraft', 'kraft pack', 'kurt', 'kurt adler', 'la', 'lab', 'label', 'labels', 'labrador', 'lace', 'ladder', 'lady', 'lake', 'laminated', 'lamp', 'lamp bulb', 'lamp housing', 'lamp light', 'lamp shade', 'lamps', 'landscape', 'lantern', 'lanyard', 'laptop', 'laptop sticker', 'laptop sticker decal', 'large', 'lasco', 'laser', 'laserjet', 'laserjet pro', 'lasting', 'latch', 'latex', 'latte', 'lattice', 'laugh', 'laundry', 'laura', 'laura ashley', 'laurel', 'lauren', 'lava', 'lavatory', 'lavatory faucet', 'lavender', 'lawn', 'lawrence', 'lawrence frames', 'layer', 'lazy', 'lb', 'lb bag', 'lbs', 'lbs capacity', 'lcd', 'lcd display', 'lcd led', 'ld', 'le', 'le creuset', 'lead', 'leaf', 'leaf tea', 'leather', 'leather storage', 'leather storage ottoman', 'leaves', 'led', 'led bulb', 'led bulbs', 'led candelabra', 'led desk', 'led desk lamp', 'led flashlight', 'led indicator', 'led lamp', 'led light', 'led light bulb', 'led lighted', 'led lights', 'led sign', 'led strip', 'leds', 'left', 'legacy', 'legal', 'legend', 'lego', 'legs', 'lemax', 'lemon', 'length', 'length pack', 'lenox', 'lens', 'leonardo', 'let', 'letter', 'letter size', 'lettering', 'letters', 'level', 'levels', 'lever', 'lever handle', 'leviton', 'lexmark', 'lg', 'liberty', 'licensed', 'licorice', 'lid', 'lids', 'life', 'lifetime', 'lift', 'light', 'light blue', 'light bulb', 'light bulb dimmable', 'light bulbs', 'light chain', 'light fixture', 'light green', 'light kit', 'light lamp', 'light outdoor', 'light set', 'light sign', 'light white', 'lighted', 'lighthouse', 'lighting', 'lights', 'lights outdoor', 'lights white', 'lightweight', 'liion', 'like', 'lil', 'lilac', 'lily', 'lime', 'lime green', 'limit', 'limited', 'limited edition', 'lincoln', 'line', 'linear', 'lined', 'linen', 'linen throw', 'linen throw pillow', 'linens', 'liner', 'liners', 'link', 'lion', 'lipstick', 'liquid', 'liquor', 'lis', 'listed', 'lite', 'liter', 'literature', 'lithium', 'lithiumion', 'little', 'little pony', 'live', 'livex', 'livex lighting', 'living', 'living room', 'living room bedroom', 'llc', 'load', 'load capacity', 'lobster', 'lock', 'locker', 'locking', 'lodge', 'loft', 'log', 'logo', 'london', 'long', 'long lasting', 'look', 'loop', 'loose', 'loose leaf', 'loose leaf tea', 'loose tea', 'los', 'lot', 'lotion', 'lotus', 'louver', 'love', 'lovely', 'lover', 'lovers', 'loveseat', 'low', 'low voltage', 'lower', 'lucky', 'lumbar', 'lumen', 'lumens', 'luna', 'lunch', 'lunch bag', 'lunch box', 'lunch tote', 'lunchbox', 'luncheon', 'lush', 'lush decor', 'luxe', 'luxrite', 'luxurious', 'luxury', 'm6', 'mac', 'macadamia', 'macbook', 'macbook notebook', 'macbook notebook laptop', 'machine', 'machine screw', 'madison', 'magazine', 'magenta', 'magenta yellow', 'magic', 'magic transforming', 'magic transforming mug', 'magical', 'magnesium', 'magnet', 'magnet 2quotx3quot', 'magnet 2quotx3quot refrigerator', 'magnetic', 'magnets', 'magnolia', 'mahogany', 'mailbox', 'mailer', 'mailers', 'mailing', 'mailing tubes', 'main', 'maine', 'mairgwall', 'majestic', 'major', 'make', 'maker', 'makes', 'makeup', 'making', 'makita', 'male', 'mampms', 'man', 'mandala', 'mango', 'manhattan', 'manor', 'manual', 'manufacturer', 'manufacturing', 'map', 'map poster', 'maple', 'marble', 'marilyn', 'marine', 'mark', 'mark ii', 'marker', 'markers', 'market', 'marketing', 'marley', 'mars', 'marshalltown', 'marshmallows', 'martha', 'martha stewart', 'martin', 'martini', 'marvel', 'mary', 'masala', 'mask', 'mason', 'massage', 'master', 'mat', 'matcha', 'matching', 'mate', 'material', 'materials', 'mats', 'matte', 'matte black', 'matted', 'matthew', 'mattress', 'mattress protector', 'mattress topper', 'max', 'maximum', 'maxlite', 'maxwell', 'mccormick', 'mcr', 'mcr safety', 'mdesign', 'mdf', 'mead', 'meal', 'measure', 'measures', 'measuring', 'meat', 'meat tenderizer', 'mechanical', 'mechanical pencil', 'mechanics', 'med', 'medallion', 'media', 'medical', 'medium', 'medium base', 'mega', 'melamine', 'melon', 'melt', 'melts', 'memo', 'memorial', 'memory', 'memory foam', 'men', 'mens', 'menu', 'mermaid', 'merry', 'merv', 'merv 11', 'mesh', 'message', 'metal', 'metal sign', 'metal wall', 'metal wall art', 'metallic', 'meter', 'metric', 'mexican', 'mfd', 'mfp', 'mhz', 'michael', 'mickey', 'mickey mouse', 'micro', 'microfiber', 'micron', 'microphone', 'microsoft', 'microwave', 'midnight', 'midwest', 'mighty', 'mikasa', 'mil', 'mildew', 'milk', 'milk chocolate', 'miller', 'mills', 'milwaukee', 'mini', 'mini light', 'miniature', 'mink', 'mint', 'mirror', 'mission', 'mist', 'mitt', 'mix', 'mixed', 'mixer', 'ml', 'mm', 'mobile', 'mocha', 'model', 'models', 'modern', 'modern contemporary', 'modern design', 'modern home', 'modes', 'module', 'moen', 'moisture', 'mold', 'mold mould', 'molds', 'mom', 'moments', 'monarch', 'monet', 'money', 'monitor', 'monkey', 'mono', 'monogram', 'monster', 'monster high', 'month', 'monthly', 'monthly planner', 'mood', 'moon', 'moose', 'morning', 'moroccan', 'morris', 'mortise', 'mosaic', 'mosaic tile', 'moscow', 'moscow mule', 'mother', 'mothers', 'mothers day', 'motif', 'motion', 'motivational', 'motor', 'motorcycle', 'motorola', 'mould', 'mount', 'mountain', 'mountains', 'mounted', 'mounting', 'mouse', 'mouse mat', 'mouse pad', 'mouse pads', 'mousepad', 'mousepad gaming', 'mousepad gaming mouse', 'movie', 'movie poster', 'mr', 'mr coffee', 'mr16', 'mrs', 'muffin', 'muffin mix', 'mug', 'mug coffee', 'mug tea', 'mug tea cup', 'mugs', 'mule', 'multi', 'multi color', 'multicolor', 'multicolored', 'multifunction', 'multiple', 'multipurpose', 'multitool', 'multiuse', 'mural', 'mural vinyl', 'murals', 'museum', 'music', 'musical', 'mustard', 'mutant', 'mutant ninja', 'mylar', 'nail', 'nano', 'nap', 'napkin', 'napkin holder', 'napkins', 'narrow', 'national', 'national hardware', 'national park', 'native', 'nativity', 'natural', 'natural wood', 'nature', 'nautical', 'navy', 'navy blue', 'ncaa', 'ndash', 'neck', 'necklace', 'need', 'needles', 'nema', 'neon', 'neoprene', 'nest', 'nestle', 'net', 'net wt', 'new', 'new replacement', 'new york', 'new york city', 'new zealand', 'nfl', 'nib', 'nice', 'nickel', 'nickel finish', 'nickel plated', 'night', 'night light', 'nightlight', 'nightmare', 'nightmare christmas', 'nikon', 'nimh', 'ninja', 'nitrile', 'nominal', 'non', 'non slip', 'non stick', 'nongmo', 'nonskid', 'nonslip', 'nonslip rubber', 'nonstick', 'nontoxic', 'noodle', 'noodles', 'nordic', 'nordyne', 'norpro', 'north', 'northern', 'norton', 'nose', 'note', 'note card', 'note cards', 'notebook', 'notebook laptop', 'notebook laptop sticker', 'notepad', 'notes', 'novelty', 'nozzle', 'npt', 'npt male', 'nuloom', 'number', 'numbers', 'nurse', 'nursery', 'nursery wall', 'nut', 'nutcracker', 'nutone', 'nuts', 'ny', 'nylon', 'oak', 'oat', 'oatmeal', 'oblong', 'ocean', 'octagon', 'octopus', 'od', 'odor', 'oem', 'office', 'office chair', 'office desk', 'officejet', 'official', 'offwhite', 'oggi', 'oh', 'ohio', 'ohm', 'oil', 'oil painting', 'oil rubbed', 'oil rubbed bronze', 'oil warmer', 'oils', 'old', 'old fashioned', 'old world', 'old world christmas', 'olive', 'olive oil', 'oneida', 'onion', 'onoff', 'onyx', 'open', 'opener', 'opening', 'openings', 'operated', 'operating', 'orange', 'order', 'oregon', 'organic', 'organics', 'organiser', 'organizer', 'oriental', 'original', 'original equipment', 'ornament', 'ornaments', 'oscillating', 'osmosis', 'osram', 'ottoman', 'ounce', 'ounce 12', 'ounce 12 case', 'ounce case', 'ounce pack', 'ounce pack 12', 'ounce pack 24', 'ounces', 'outdoor', 'outdoor wall', 'outdoor wall light', 'outdoors', 'outer', 'outlet', 'outlets', 'output', 'outside', 'oval', 'oval bumper', 'oval bumper sticker', 'oval car', 'oval car decal', 'oven', 'oven mitt', 'overall', 'overall length', 'oversize', 'oversized', 'owl', 'owls', 'oxford', 'oxide', 'oxo', 'oxo good', 'oxo good grips', 'oxygen', 'oyster', 'oz', 'oz 12', 'oz bag', 'oz box', 'oz frozen', 'oz glass', 'oz pack', 'oz pack 12', 'oz pk', 'oz stainless', 'oz stainless steel', 'oz white', 'oz white coffee', 'pa', 'pacific', 'pack', 'pack 10', 'pack 100', 'pack 12', 'pack 16', 'pack 18', 'pack 20', 'pack 24', 'pack 25', 'pack 48', 'pack 50', 'pack 500', 'pack cosmas', 'package', 'packages', 'packages pack', 'packaging', 'packaging wholesalers', 'packard', 'packets', 'packs', 'pad', 'pad calendar', 'pad mousepad', 'padded', 'padlock', 'pads', 'page', 'pages', 'pail', 'paint', 'painted', 'painters', 'painting', 'paintings', 'pair', 'pairs', 'paisley', 'palm', 'pan', 'pan head', 'panasonic', 'pancake', 'panda', 'panel', 'panels', 'pans', 'pantry', 'paper', 'paper towel', 'paper towel holder', 'papers', 'paprika', 'paradise', 'paris', 'park', 'parker', 'parking', 'parking sign', 'particulate', 'parts', 'party', 'party accessory', 'party decoration', 'pasta', 'paste', 'pastel', 'pastry', 'patch', 'patchwork', 'patio', 'patriotic', 'pattern', 'paul', 'pavilion', 'pavilion gift', 'pavilion gift company', 'paw', 'pc', 'pcs', 'peace', 'peach', 'peacock', 'peanut', 'peanut butter', 'peanuts', 'pearl', 'pecan', 'pedestal', 'peel', 'peel stick', 'peel stick graphic', 'peeler', 'pen', 'pencil', 'pencil case', 'pencils', 'pendant', 'penguin', 'pens', 'pentel', 'people', 'pepper', 'pepper shaker', 'pepper shaker set', 'peppermint', 'perfect', 'performance', 'perfume', 'permanent', 'persian', 'personal', 'personalized', 'personalized christmas', 'pet', 'pewter', 'pfaltzgraff', 'pfister', 'phase', 'philips', 'phillips', 'phone', 'phones', 'photo', 'photo album', 'photo frame', 'photo paper', 'photograph', 'picks', 'picnic', 'picture', 'picture frame', 'picture photo', 'pictures', 'pie', 'piece', 'piece bed', 'piece set', 'pieces', 'pig', 'pillar', 'pillar candle', 'pillow', 'pillow case', 'pillow case cover', 'pillow case cushion', 'pillow cases', 'pillow cover', 'pillow covers', 'pillow insert', 'pillow perfect', 'pillow sham', 'pillow shams', 'pillowcase', 'pillowcases', 'pillows', 'pilot', 'pin', 'pine', 'pineapple', 'pink', 'pins', 'pint', 'pioneer', 'pipe', 'pitch', 'pitcher', 'pizza', 'pk', 'pla', 'place', 'place setting', 'placemat', 'placemats', 'plaid', 'plain', 'planet', 'planner', 'plant', 'plaque', 'plasma', 'plastic', 'plate', 'plate cover', 'plated', 'plated steel', 'plates', 'platform', 'platform bed', 'platinum', 'platter', 'play', 'player', 'playing', 'pleated', 'plier', 'pliers', 'plug', 'plugin', 'plum', 'plus', 'plush', 'plush blanket', 'plush throw', 'pneumatic', 'pocket', 'pockets', 'pods', 'point', 'polar', 'pole', 'polish', 'polish pottery', 'polished', 'polished brass', 'polished chrome', 'polishing', 'polka', 'polka dot', 'poly', 'polyester', 'polyester fabric', 'polyethylene', 'polymer', 'polypropylene', 'polyurethane', 'pom', 'pond', 'pony', 'pooh', 'pool', 'pop', 'popcorn', 'popular', 'popup', 'popup drain', 'porcelain', 'pork', 'port', 'portable', 'portfolio', 'portion', 'portrait', 'post', 'postcard', 'poster', 'poster 24', 'poster 24x36', 'poster art', 'poster movie', 'poster print', 'poster wall', 'posters', 'pot', 'pot holder', 'potato', 'potter', 'pottery', 'pouch', 'pouches', 'pound', 'pound bag', 'pounds', 'pour', 'pourer', 'powder', 'powdered', 'power', 'power supply', 'powered', 'powerlite', 'powershot', 'prayer', 'precious', 'precious moments', 'precision', 'premier', 'premium', 'premium quality', 'premium thickwrap', 'premium thickwrap canvas', 'premium wool', 'prep', 'present', 'preserve', 'presley', 'press', 'pressure', 'pretty', 'price', 'prime', 'primeline', 'primeline products', 'primitive', 'primitives', 'primitives kathy', 'princess', 'print', 'print canvas', 'print entitled', 'print poster', 'print wall', 'print wall art', 'print wall decor', 'printed', 'printer', 'printers', 'printing', 'prints', 'privacy', 'pro', 'probe', 'processor', 'produce', 'product', 'products', 'professional', 'programmable', 'progress', 'progress lighting', 'project', 'projection', 'projector', 'projector lamp', 'projector replacement', 'projector replacement lamp', 'projectors', 'proof', 'prop', 'property', 'props', 'protect', 'protection', 'protective', 'protector', 'protectors', 'protects', 'protein', 'proto', 'psi', 'pu', 'pu leather', 'pub', 'pull', 'pullout', 'pulls', 'pump', 'pumpkin', 'punch', 'puppies', 'puppy', 'pure', 'pure white', 'purifier', 'purple', 'purpose', 'purse', 'push', 'push button', 'puzzle', 'pvc', 'pyramid', 'pyramid america', 'pyrex', 'qt', 'qty', 'quality', 'quantity', 'quart', 'quartz', 'quatrefoil', 'queen', 'queen sheet', 'queen sheet set', 'queen size', 'quick', 'quick release', 'quiet', 'quilt', 'quilted', 'quot', 'quote', 'quotes', 'quoti', 'rabbit', 'rack', 'radio', 'radius', 'rail', 'rain', 'rainbow', 'ralph', 'ralph lauren', 'random', 'range', 'rapid', 'rare', 'raspberry', 'ratchet', 'rated', 'raw', 'reader', 'reading', 'ready', 'ready hang', 'real', 'rear', 'receiver', 'recessed', 'rechargeable', 'recipe', 'record', 'rectangle', 'rectangle magnet', 'rectangle magnet 2quotx3quot', 'rectangular', 'rectangular throw', 'rectangular throw pillow', 'recycled', 'red', 'red green', 'red led', 'red white', 'red wine', 'reduced', 'reed', 'reel', 'refill', 'refillable', 'refills', 'reflective', 'refrigerator', 'refrigerator magnet', 'refurbished', 'reg', 'regal', 'register', 'regular', 'reindeer', 'relay', 'release', 'religious', 'remanufactured', 'remanufactured ink', 'remanufactured ink cartridge', 'remote', 'remote control', 'removable', 'removable wall', 'repair', 'repair kit', 'replacement', 'replacement brother', 'replacement bulb', 'replacement filter', 'replacement hp', 'replacement lamp', 'replacement lamp housing', 'replacement projector', 'replacement projector lamp', 'replaces', 'reproduction', 'resin', 'resistant', 'rest', 'restaurant', 'retirement', 'retractable', 'retriever', 'retro', 'retrofit', 'return', 'reusable', 'reverse', 'reverse osmosis', 'reversible', 'revolving', 'rgb', 'rhinestone', 'ribbed', 'ribbon', 'rice', 'rich', 'ridgid', 'right', 'right hand', 'rim', 'ring', 'rings', 'river', 'road', 'roast', 'roasted', 'robe', 'robe hook', 'rock', 'rocker', 'rocket', 'rod', 'rod pocket', 'rods', 'roll', 'rolled', 'roller', 'rollerball', 'rolling', 'rolling pin', 'rolls', 'roman', 'romantic', 'roof', 'room', 'room bedroom', 'room decor', 'roomba', 'roommates', 'rooster', 'root', 'rope', 'rose', 'roses', 'rosewood', 'rotary', 'rotating', 'round', 'router', 'royal', 'royal doulton', 'rpm', 'rt', 'rub', 'rubbed', 'rubbed bronze', 'rubber', 'rubbermaid', 'ruffle', 'rug', 'rug 5feet', 'rugs', 'ruled', 'ruler', 'run', 'runner', 'running', 'rust', 'rustic', 'rv', 'sachet', 'sachets', 'sack', 'sae', 'safari', 'safavieh', 'safco', 'safe', 'safety', 'safety glasses', 'sage', 'sailor', 'saint', 'salad', 'salad dressing', 'sale', 'salmon', 'salsa', 'salt', 'salt amp', 'salt amp pepper', 'salt lamp', 'salt pepper', 'salt pepper shaker', 'samsung', 'samsung galaxy', 'san', 'san francisco', 'sand', 'sanding', 'sandwich', 'santa', 'satco', 'sateen', 'satin', 'satin nickel', 'sauce', 'saver', 'saving', 'saw', 'saw blade', 'saying', 'sayings', 'scale', 'scanner', 'scarf', 'scene', 'scent', 'scented', 'scented candle', 'schlage', 'school', 'science', 'scientific', 'sconce', 'scoop', 'scotch', 'screen', 'screen protector', 'screw', 'screwdriver', 'screwdriver set', 'screws', 'scroll', 'scroll poster', 'sculpture', 'se', 'sea', 'sea salt', 'seafood', 'seal', 'sealant', 'sealed', 'season', 'seasoning', 'seasons', 'seat', 'seattle', 'secret', 'sectional', 'security', 'seed', 'seeds', 'select', 'self', 'self adhesive', 'self inking', 'selfadhesive', 'sensitive', 'sensor', 'separate', 'september', 'series', 'serve', 'server', 'serveware', 'service', 'serving', 'serving tray', 'sesame', 'set', 'set 10', 'set 100', 'set 12', 'set 16', 'set 20', 'set 24', 'set 50', 'set black', 'set blue', 'set color', 'set deep', 'set deep pocket', 'set green', 'set includes', 'set king', 'set pack', 'set piece', 'set queen', 'set queen size', 'set red', 'set service', 'set stainless', 'set stainless steel', 'set twin', 'set white', 'sets', 'setting', 'settings', 'sexy', 'shabby', 'shade', 'shades', 'shadow', 'shaft', 'shag', 'shag rug', 'shaggy', 'shaker', 'shaker set', 'shakers', 'sham', 'sham standard', 'shampoo', 'shams', 'shank', 'shape', 'shaped', 'shark', 'sharp', 'sharpener', 'sharpening', 'sharper', 'sharper image', 'sheath', 'shed', 'sheer', 'sheer curtain', 'sheer voile', 'sheer voile scarf', 'sheer window', 'sheet', 'sheet metal', 'sheet metal screws', 'sheet set', 'sheet set deep', 'sheet set king', 'sheet set queen', 'sheets', 'sheets white', 'sheffield', 'shelf', 'shell', 'shells', 'shelves', 'shelving', 'shepherd', 'shield', 'shimmer', 'shiny', 'ship', 'shipping', 'shipping boxes', 'shock', 'shoe', 'shop', 'shopping', 'shopping bag', 'shopvac', 'shore', 'short', 'shot', 'shot glass', 'shotgun', 'shoulder', 'shower', 'shower curtain', 'shower curtain 60quot', 'shower curtain 66quot', 'shower curtain 69quotx70quot', 'shower curtain hooks', 'shower door', 'shower faucet', 'shower head', 'showerhead', 'shredder', 'shrink', 'shui', 'sided', 'sides', 'sign', 'sign wall', 'signature', 'signs', 'silent', 'silhouette', 'silicon', 'silicone', 'silicone baking', 'silk', 'silky', 'silver', 'silver tone', 'simple', 'simply', 'single', 'single handle', 'single hole', 'single serve', 'sink', 'sink faucet', 'sip', 'sitting', 'size', 'size 100', 'sizes', 'skid', 'skillet', 'skin', 'skirt', 'skull', 'sky', 'skyline', 'slate', 'sleep', 'sleeve', 'slice', 'slicer', 'slide', 'sliding', 'slim', 'slip', 'slipcover', 'slotted', 'slow', 'small', 'smart', 'smd', 'smiley', 'smoke', 'smoked', 'smooth', 'snack', 'snacks', 'snap', 'snoopy', 'snow', 'snow globe', 'snowflake', 'snowman', 'soap', 'society6', 'society6 wall', 'society6 wall tapestry', 'socket', 'socket head', 'socket set', 'soda', 'sodialr', 'sofa', 'sofa bed', 'soft', 'soft plush', 'soft rubber', 'soft white', 'solar', 'solar powered', 'sold', 'solder', 'soldering', 'solid', 'solid brass', 'solid wood', 'solutions', 'sons', 'sony', 'sound', 'soup', 'sour', 'source', 'south', 'southern', 'southwest', 'southwestern', 'souvenir', 'soy', 'soy candle', 'soy wax', 'spa', 'space', 'spade', 'spaghetti', 'spaniel', 'spanish', 'sparkle', 'sparkling', 'spatula', 'speaker', 'speakers', 'special', 'specialty', 'spectrum', 'speed', 'sphere', 'spheres', 'spice', 'spices', 'spicy', 'spider', 'spiderman', 'spike', 'spiral', 'spiral notebook', 'spirit', 'splash', 'split', 'sponge', 'spool', 'spoon', 'spoon rest', 'spoons', 'sport', 'sports', 'spot', 'spot light', 'spotlight', 'spout', 'spray', 'sprayer', 'spread', 'spreader', 'spreader set', 'spring', 'spst', 'sq', 'sq ft', 'square', 'square decorative', 'squares', 'squeeze', 'squeezer', 'st', 'stackable', 'stage', 'stain', 'stained', 'stained glass', 'stainless', 'stainless steel', 'stainless steel 188', 'stainless steel flatware', 'stainless steel kitchen', 'stainlesssteel', 'stair', 'stamp', 'stamps', 'stand', 'standard', 'standard size', 'standing', 'stanley', 'stanley proto', 'stapler', 'staples', 'star', 'star wars', 'starbucks', 'starfish', 'starry', 'stars', 'starter', 'state', 'state flag', 'states', 'static', 'station', 'stationery', 'statue', 'statues', 'steak', 'steaks', 'stealstreet', 'steam', 'steamer', 'steel', 'steel 188', 'steel double', 'steel finish', 'steel flat', 'steel flatware', 'steel kitchen', 'steel mesh', 'steel set', 'steel wall', 'stem', 'step', 'stereo', 'sterilite', 'sterling', 'stethoscope', 'stewart', 'stick', 'stick graphic', 'stick wall', 'stick wall decals', 'sticker', 'sticker decal', 'sticker decor', 'sticker decor art', 'sticker euro', 'sticker euro oval', 'sticker home', 'sticker oval', 'sticker oval bumper', 'sticker vinyl', 'stickers', 'sticks', 'sticky', 'stitched', 'stock', 'stocking', 'stone', 'stones', 'stoneware', 'stool', 'stop', 'stopper', 'storage', 'storage bag', 'storage box', 'storage container', 'storage containers', 'storage organizer', 'storage ottoman', 'storage rack', 'storage set', 'store', 'stove', 'straight', 'strainer', 'strap', 'straps', 'straw', 'strawberry', 'streamlight', 'street', 'street sign', 'strength', 'stretch', 'stretched', 'stretched canvas', 'stride', 'string', 'string lights', 'strip', 'strip light', 'stripe', 'striped', 'stripes', 'strips', 'strong', 'stud', 'student', 'studio', 'studios', 'stuffed', 'sturdy', 'style', 'styles', 'stylish', 'stylus', 'sucker', 'suction', 'suction cup', 'suede', 'sugar', 'sugar free', 'sugar skull', 'suit', 'summer', 'sun', 'sunbrella', 'sunflower', 'sunrise', 'sunset', 'sunshine', 'super', 'super bright', 'super soft', 'superior', 'supplies', 'supply', 'support', 'support cushion', 'supreme', 'surface', 'survival', 'susan', 'sushi', 'swarovski', 'sweep', 'sweet', 'sweet jojo', 'sweet jojo designs', 'sweetener', 'swimming', 'swirl', 'swiss', 'switch', 'switch plate', 'swivel', 'swooper', 'swooper feather', 'sylvania', 'symbol', 'synthetic', 'syrup', 't5', 't6', 't8', 'tab', 'table', 'table cloth', 'table lamp', 'table runner', 'tablecloth', 'tables', 'tablet', 'tabletop', 'tactical', 'taffy', 'tag', 'tags', 'tail', 'tall', 'tan', 'tank', 'tap', 'tape', 'taper', 'tapered', 'tapestries', 'tapestry', 'tapestry size', 'tarp', 'tart', 'task', 'tasting', 'taupe', 'tc', 'tcp', 'tea', 'tea bags', 'tea cup', 'tea light', 'tea loose', 'tea loose leaf', 'tea towel', 'teacher', 'teal', 'team', 'teapot', 'teas', 'tech', 'technology', 'telephone', 'temp', 'temperature', 'tempered', 'tempered glass', 'tenderizer', 'terminal', 'terrier', 'tervis', 'test', 'tester', 'texas', 'text', 'textiles', 'textured', 'thai', 'theater', 'theme', 'themed', 'thermal', 'thermometer', 'thermostat', 'thickness', 'thickwrap', 'thickwrap canvas', 'thickwrap canvas wall', 'things', 'thirstystone', 'thomas', 'thread', 'thread count', 'thread count egyptian', 'thread size', 'threaded', 'throw', 'throw blanket', 'throw pillow', 'throw pillow case', 'throw pillow cover', 'throw pillow covers', 'thumb', 'thunder', 'tidy', 'tie', 'tie dye', 'tier', 'tiffany', 'tig', 'tiger', 'tile', 'tiles', 'tilt', 'time', 'timer', 'tin', 'tin poster', 'tin sign', 'tinkerbell', 'tins', 'tiny', 'tip', 'tips', 'tissue', 'tissue box', 'titan', 'titanium', 'tm', 'toaster', 'toddler', 'toffee', 'toggle', 'toggle switch', 'toilet', 'tolerance', 'tomato', 'tomorrow', 'tone', 'toner', 'toner cartridge', 'toner cartridge replacement', 'tong', 'tongs', 'tool', 'tool box', 'tool kit', 'tool set', 'tools', 'toothbrush', 'toothbrush holder', 'toothpaste', 'topper', 'toppers', 'tops', 'torch', 'torch lamp', 'torque', 'tortilla', 'torx', 'toscano', 'toshiba', 'toss', 'total', 'tote', 'tote bag', 'tote bag cloth', 'touch', 'touch screen', 'touchscreen', 'towel', 'towel bar', 'towel holder', 'towel set', 'towels', 'tower', 'toy', 'tpi', 'track', 'track lighting', 'trade', 'trader', 'trader joes', 'trading', 'traditional', 'traffic', 'trail', 'train', 'training', 'transfer', 'transformers', 'transforming', 'transforming mug', 'translucent', 'transparent', 'trash', 'travel', 'travel coffee', 'travel mug', 'travel poster', 'travel tumbler', 'travertine', 'tray', 'trays', 'treasure', 'treasures', 'treat', 'treatment', 'tree', 'tree ornament', 'treefree', 'treefree greetings', 'trees', 'trellis', 'trend', 'trend enterprises', 'trends', 'triangle', 'trigger', 'trim', 'trim kit', 'trimmer', 'trinket', 'trinket box', 'trio', 'trip', 'triple', 'trivet', 'tropical', 'trowel', 'truck', 'trucks', 'true', 'truffle', 'trunk', 'tub', 'tub shower', 'tube', 'tube fitting', 'tube light', 'tube light bulb', 'tubes', 'tubing', 'tubs', 'tubshower', 'tufted', 'tulip', 'tumbled', 'tumbler', 'tungsten', 'tungsten carbide', 'tupperware', 'turkey', 'turkish', 'turner', 'turntable', 'turquoise', 'turtle', 'tuscan', 'tv', 'tv stand', 'twilight', 'twin', 'twin comforter', 'twin extra', 'twin extra long', 'twin pack', 'twin sides', 'twin size', 'twinkle', 'twist', 'type', 'uf', 'uf mfd', 'uk', 'ul', 'ul listed', 'ultimate', 'ultra', 'ultrasonic', 'umbra', 'undermount', 'unframed', 'uniball', 'union', 'unique', 'unique decorative', 'unisex', 'unit', 'united', 'units', 'universal', 'university', 'unlined', 'unscented', 'unsweetened', 'upbright', 'update', 'update international', 'upgraded', 'upholstered', 'upholstery', 'upper', 'upright', 'urban', 'urban trends', 'urn', 'usa', 'usb', 'usb 20', 'usb charging', 'usda', 'use', 'used', 'utensils', 'utility', 'uv', 'uxcell', 'vac', 'vacuum', 'vacuum bags', 'vacuum cleaner', 'valance', 'valentines', 'valentines day', 'valet', 'valley', 'value', 'value pack', 'valve', 'van', 'van gogh', 'vandor', 'vanilla', 'vanity', 'variable', 'variety', 'variety pack', 'various', 'vase', 'vbelt', 'vegan', 'vegetable', 'vegetables', 'vegetarian', 'veggie', 'vehicle', 'velvet', 'vent', 'vera', 'version', 'vertical', 'vessel', 'vessel sink', 'vestil', 'vibrant', 'vickerman', 'victorian', 'victorinox', 'video', 'view', 'viewfinder', 'vigo', 'viking', 'village', 'vinci', 'vine', 'vinegar', 'vineyard', 'vintage', 'vintage look', 'vintage metal', 'vintage style', 'vinyl', 'vinyl decal', 'vinyl sticker', 'vinyl wall', 'vinyl wall art', 'vinyl wall decal', 'vinyl wall sticker', 'violet', 'virgin', 'virgin olive', 'virgin olive oil', 'vision', 'visor', 'voile', 'volt', 'voltage', 'volts', 'volume', 'votive', 'votive candle', 'vue', 'walker', 'wall', 'wall art', 'wall art home', 'wall art print', 'wall calendar', 'wall clock', 'wall deacutecor', 'wall decal', 'wall decal sticker', 'wall decals', 'wall decor', 'wall decor travel', 'wall hanging', 'wall light', 'wall macbook', 'wall macbook notebook', 'wall mirror', 'wall mount', 'wall mounted', 'wall mural', 'wall picture', 'wall plate', 'wall poster', 'wall poster print', 'wall sconce', 'wall scroll', 'wall scroll poster', 'wall sticker', 'wall stickers', 'wall tapestry', 'wall tapestry size', 'wall tile', 'wallcoverings', 'wallet', 'wallmonkeys', 'wallpaper', 'walnut', 'wand', 'wanted', 'warehouse', 'warm', 'warm white', 'warmer', 'warning', 'warranty', 'wars', 'washable', 'washer', 'washing', 'washington', 'waste', 'wastebasket', 'watch', 'water', 'water bottle', 'water filter', 'water resistant', 'watercolor', 'watercolor art', 'waterfall', 'waterford', 'watermelon', 'waterproof', 'waterproof bathroom', 'waterproof fabric', 'waterproof polyester', 'waterproof polyester fabric', 'waterproof shower', 'watson', 'watt', 'watt led', 'watts', 'wave', 'wax', 'wax melt', 'wax melts', 'way', 'weather', 'weatherproof', 'weave', 'weavers', 'web', 'wedding', 'wedding anniversary', 'wedding party', 'weddings', 'wedge', 'week', 'weekly', 'weekly monthly', 'weight', 'welcome', 'welding', 'west', 'western', 'westinghouse', 'westland', 'westland giftware', 'wet', 'whats', 'wheat', 'wheel', 'wheels', 'whisk', 'whiskey', 'white', 'white black', 'white car', 'white car window', 'white chocolate', 'white coffee', 'white finish', 'white light', 'white pack', 'white sticker', 'white sticker decal', 'whitmor', 'wholesale', 'wholesalers', 'wick', 'wicker', 'wide', 'width', 'wife', 'wifi', 'wiha', 'wild', 'wildlife', 'wilton', 'winco', 'wind', 'window', 'window curtain', 'window film', 'window wall', 'window wall macbook', 'windows', 'windsor', 'windtunnel', 'wine', 'wine bottle', 'wine bottle holder', 'wine glass', 'wing', 'winter', 'wire', 'wireless', 'wolf', 'woman', 'women', 'womens', 'wonderland', 'wood', 'wood picture', 'wood picture frame', 'wood sign', 'wooden', 'woodland', 'woods', 'woodworking', 'wool', 'word', 'words', 'work', 'work gloves', 'works', 'world', 'world christmas', 'world map', 'woven', 'wrap', 'wrapped', 'wrappers', 'wreath', 'wrench', 'wrinkle', 'wrist', 'writing', 'wrought', 'wrought iron', 'wt', 'xl', 'xlarge', 'yankee', 'yankee candle', 'yard', 'yards', 'yarn', 'year', 'years', 'yellow', 'yerba', 'yerba mate', 'yield', 'yoga', 'yogurt', 'york', 'york city', 'york wallcoverings', 'zealand', 'zebra', 'zenith', 'zero', 'zinc', 'zinc plated', 'zipper', 'zippered', 'zippered pillow', 'zombie', 'zone', 'zoom', 'zuo']\n"
          ]
        }
      ]
    },
    {
      "cell_type": "code",
      "source": [
        "X.toarray().shape"
      ],
      "metadata": {
        "colab": {
          "base_uri": "https://localhost:8080/"
        },
        "id": "jh3tWASAee4T",
        "outputId": "61be4e55-ed07-474b-b6ee-291fc4bed005"
      },
      "execution_count": null,
      "outputs": [
        {
          "output_type": "execute_result",
          "data": {
            "text/plain": [
              "(10065, 2005)"
            ]
          },
          "metadata": {},
          "execution_count": 93
        }
      ]
    },
    {
      "cell_type": "markdown",
      "source": [
        "#**Train Test Split**"
      ],
      "metadata": {
        "id": "f6IZEbTzpNaj"
      }
    },
    {
      "cell_type": "code",
      "source": [
        "train_X, test_X, y_train, y_test = train_test_split(df['tokenized_title'], df['category'],stratify=df['category'],test_size = 0.2, random_state = 0)"
      ],
      "metadata": {
        "id": "8gOnDoYoYwcc"
      },
      "execution_count": null,
      "outputs": []
    },
    {
      "cell_type": "code",
      "source": [
        ""
      ],
      "metadata": {
        "id": "oHslXLGNilM4"
      },
      "execution_count": null,
      "outputs": []
    },
    {
      "cell_type": "code",
      "source": [
        "train_vectorized = vectorizer.transform(train_X)\n",
        "test_vectorized = vectorizer.transform(test_X)"
      ],
      "metadata": {
        "id": "SBT5W616bvDp"
      },
      "execution_count": null,
      "outputs": []
    },
    {
      "cell_type": "code",
      "source": [
        "X_train= train_vectorized.toarray()\n",
        "X_test = test_vectorized.toarray()"
      ],
      "metadata": {
        "id": "Vwnhs770bS-Y"
      },
      "execution_count": null,
      "outputs": []
    },
    {
      "cell_type": "code",
      "source": [
        "print(X_train.shape,y_train.shape)\n",
        "print(X_test.shape,y_test.shape)"
      ],
      "metadata": {
        "colab": {
          "base_uri": "https://localhost:8080/"
        },
        "id": "h6tXBJMPYwfL",
        "outputId": "1aedffe3-07e4-485c-bda3-9f9140f43ba6"
      },
      "execution_count": null,
      "outputs": [
        {
          "output_type": "stream",
          "name": "stdout",
          "text": [
            "(8052, 10000) (8052,)\n",
            "(2013, 10000) (2013,)\n"
          ]
        }
      ]
    },
    {
      "cell_type": "code",
      "source": [
        ""
      ],
      "metadata": {
        "id": "To0BeCLXoFmS"
      },
      "execution_count": null,
      "outputs": []
    },
    {
      "cell_type": "markdown",
      "source": [
        "#**RandomForestClassifier Model**"
      ],
      "metadata": {
        "id": "8Y1icLLVpTgP"
      }
    },
    {
      "cell_type": "code",
      "source": [
        "#from sklearn.naive_bayes import GaussianNB\n",
        "from sklearn.ensemble import RandomForestClassifier\n",
        "model = RandomForestClassifier().fit(X_train,y_train)"
      ],
      "metadata": {
        "id": "kveH2KAmaSg1"
      },
      "execution_count": null,
      "outputs": []
    },
    {
      "cell_type": "markdown",
      "source": [
        "#**Model evalution**"
      ],
      "metadata": {
        "id": "RJozDaVspfHi"
      }
    },
    {
      "cell_type": "code",
      "source": [
        "from sklearn.metrics import accuracy_score\n",
        "from sklearn.metrics import f1_score\n",
        "\n",
        "y_train_pred=model.predict(X_train)\n",
        "y_test_pred=model.predict(X_test)\n",
        "\n",
        "train_accuracy=accuracy_score(y_train,y_train_pred)\n",
        "test_accuracy=accuracy_score(y_test,y_test_pred)\n",
        "\n",
        "print('Train accuracy = ',train_accuracy)\n",
        "print('Test accuracy = ',test_accuracy)\n",
        "\n",
        "print()\n",
        "train_f1=f1_score(y_train,y_train_pred,average='weighted')\n",
        "test_f1=f1_score(y_test,y_test_pred,average='weighted')\n",
        "\n",
        "print('Train F1 Score = ',train_f1)\n",
        "print('Test F1 Score = ',test_f1)"
      ],
      "metadata": {
        "colab": {
          "base_uri": "https://localhost:8080/"
        },
        "id": "LWx_plpPivv_",
        "outputId": "703d74fc-6077-4e08-db0f-226a7065c28f"
      },
      "execution_count": null,
      "outputs": [
        {
          "output_type": "stream",
          "name": "stdout",
          "text": [
            "Train accuracy =  0.9987580725285643\n",
            "Test accuracy =  0.7759562841530054\n",
            "\n",
            "Train F1 Score =  0.9987592566350726\n",
            "Test F1 Score =  0.7651274802267105\n"
          ]
        }
      ]
    },
    {
      "cell_type": "markdown",
      "source": [
        "#**For Train Data**"
      ],
      "metadata": {
        "id": "wqPn-QFkzczQ"
      }
    },
    {
      "cell_type": "code",
      "source": [
        "from sklearn.metrics import classification_report\n",
        "my_df_train = pd.DataFrame(classification_report(model.predict(X_train), \n",
        "                                        y_train, digits=2,\n",
        "                                        output_dict=True)).T\n",
        "\n",
        "my_df_train['support'] = my_df_train.support.apply(int)\n",
        "\n",
        "my_df_train.style.background_gradient(cmap='viridis',\n",
        "                             subset=pd.IndexSlice['0':'9', :'f1-score'])"
      ],
      "metadata": {
        "colab": {
          "base_uri": "https://localhost:8080/",
          "height": 331
        },
        "id": "jo02hvvAzMUv",
        "outputId": "95b1fb8d-aa4d-45f3-9b01-2fc966c61759"
      },
      "execution_count": null,
      "outputs": [
        {
          "output_type": "execute_result",
          "data": {
            "text/html": [
              "<style  type=\"text/css\" >\n",
              "</style><table id=\"T_7f62124a_769e_11ec_a8ac_0242ac1c0002\" class=\"dataframe\"><thead>    <tr>        <th class=\"blank level0\" ></th>        <th class=\"col_heading level0 col0\" >precision</th>        <th class=\"col_heading level0 col1\" >recall</th>        <th class=\"col_heading level0 col2\" >f1-score</th>        <th class=\"col_heading level0 col3\" >support</th>    </tr></thead><tbody>\n",
              "                <tr>\n",
              "                        <th id=\"T_7f62124a_769e_11ec_a8ac_0242ac1c0002level0_row0\" class=\"row_heading level0 row0\" >Electronics</th>\n",
              "                        <td id=\"T_7f62124a_769e_11ec_a8ac_0242ac1c0002row0_col0\" class=\"data row0 col0\" >0.993464</td>\n",
              "                        <td id=\"T_7f62124a_769e_11ec_a8ac_0242ac1c0002row0_col1\" class=\"data row0 col1\" >1.000000</td>\n",
              "                        <td id=\"T_7f62124a_769e_11ec_a8ac_0242ac1c0002row0_col2\" class=\"data row0 col2\" >0.996721</td>\n",
              "                        <td id=\"T_7f62124a_769e_11ec_a8ac_0242ac1c0002row0_col3\" class=\"data row0 col3\" >152</td>\n",
              "            </tr>\n",
              "            <tr>\n",
              "                        <th id=\"T_7f62124a_769e_11ec_a8ac_0242ac1c0002level0_row1\" class=\"row_heading level0 row1\" >Grocery & Gourmet Food</th>\n",
              "                        <td id=\"T_7f62124a_769e_11ec_a8ac_0242ac1c0002row1_col0\" class=\"data row1 col0\" >0.997732</td>\n",
              "                        <td id=\"T_7f62124a_769e_11ec_a8ac_0242ac1c0002row1_col1\" class=\"data row1 col1\" >1.000000</td>\n",
              "                        <td id=\"T_7f62124a_769e_11ec_a8ac_0242ac1c0002row1_col2\" class=\"data row1 col2\" >0.998865</td>\n",
              "                        <td id=\"T_7f62124a_769e_11ec_a8ac_0242ac1c0002row1_col3\" class=\"data row1 col3\" >880</td>\n",
              "            </tr>\n",
              "            <tr>\n",
              "                        <th id=\"T_7f62124a_769e_11ec_a8ac_0242ac1c0002level0_row2\" class=\"row_heading level0 row2\" >Home & Kitchen</th>\n",
              "                        <td id=\"T_7f62124a_769e_11ec_a8ac_0242ac1c0002row2_col0\" class=\"data row2 col0\" >0.998740</td>\n",
              "                        <td id=\"T_7f62124a_769e_11ec_a8ac_0242ac1c0002row2_col1\" class=\"data row2 col1\" >1.000000</td>\n",
              "                        <td id=\"T_7f62124a_769e_11ec_a8ac_0242ac1c0002row2_col2\" class=\"data row2 col2\" >0.999370</td>\n",
              "                        <td id=\"T_7f62124a_769e_11ec_a8ac_0242ac1c0002row2_col3\" class=\"data row2 col3\" >3963</td>\n",
              "            </tr>\n",
              "            <tr>\n",
              "                        <th id=\"T_7f62124a_769e_11ec_a8ac_0242ac1c0002level0_row3\" class=\"row_heading level0 row3\" >Industrial & Scientific</th>\n",
              "                        <td id=\"T_7f62124a_769e_11ec_a8ac_0242ac1c0002row3_col0\" class=\"data row3 col0\" >1.000000</td>\n",
              "                        <td id=\"T_7f62124a_769e_11ec_a8ac_0242ac1c0002row3_col1\" class=\"data row3 col1\" >1.000000</td>\n",
              "                        <td id=\"T_7f62124a_769e_11ec_a8ac_0242ac1c0002row3_col2\" class=\"data row3 col2\" >1.000000</td>\n",
              "                        <td id=\"T_7f62124a_769e_11ec_a8ac_0242ac1c0002row3_col3\" class=\"data row3 col3\" >470</td>\n",
              "            </tr>\n",
              "            <tr>\n",
              "                        <th id=\"T_7f62124a_769e_11ec_a8ac_0242ac1c0002level0_row4\" class=\"row_heading level0 row4\" >Office Products</th>\n",
              "                        <td id=\"T_7f62124a_769e_11ec_a8ac_0242ac1c0002row4_col0\" class=\"data row4 col0\" >0.997814</td>\n",
              "                        <td id=\"T_7f62124a_769e_11ec_a8ac_0242ac1c0002row4_col1\" class=\"data row4 col1\" >1.000000</td>\n",
              "                        <td id=\"T_7f62124a_769e_11ec_a8ac_0242ac1c0002row4_col2\" class=\"data row4 col2\" >0.998906</td>\n",
              "                        <td id=\"T_7f62124a_769e_11ec_a8ac_0242ac1c0002row4_col3\" class=\"data row4 col3\" >913</td>\n",
              "            </tr>\n",
              "            <tr>\n",
              "                        <th id=\"T_7f62124a_769e_11ec_a8ac_0242ac1c0002level0_row5\" class=\"row_heading level0 row5\" >Tools & Home Improvement</th>\n",
              "                        <td id=\"T_7f62124a_769e_11ec_a8ac_0242ac1c0002row5_col0\" class=\"data row5 col0\" >1.000000</td>\n",
              "                        <td id=\"T_7f62124a_769e_11ec_a8ac_0242ac1c0002row5_col1\" class=\"data row5 col1\" >0.994026</td>\n",
              "                        <td id=\"T_7f62124a_769e_11ec_a8ac_0242ac1c0002row5_col2\" class=\"data row5 col2\" >0.997004</td>\n",
              "                        <td id=\"T_7f62124a_769e_11ec_a8ac_0242ac1c0002row5_col3\" class=\"data row5 col3\" >1674</td>\n",
              "            </tr>\n",
              "            <tr>\n",
              "                        <th id=\"T_7f62124a_769e_11ec_a8ac_0242ac1c0002level0_row6\" class=\"row_heading level0 row6\" >accuracy</th>\n",
              "                        <td id=\"T_7f62124a_769e_11ec_a8ac_0242ac1c0002row6_col0\" class=\"data row6 col0\" >0.998758</td>\n",
              "                        <td id=\"T_7f62124a_769e_11ec_a8ac_0242ac1c0002row6_col1\" class=\"data row6 col1\" >0.998758</td>\n",
              "                        <td id=\"T_7f62124a_769e_11ec_a8ac_0242ac1c0002row6_col2\" class=\"data row6 col2\" >0.998758</td>\n",
              "                        <td id=\"T_7f62124a_769e_11ec_a8ac_0242ac1c0002row6_col3\" class=\"data row6 col3\" >0</td>\n",
              "            </tr>\n",
              "            <tr>\n",
              "                        <th id=\"T_7f62124a_769e_11ec_a8ac_0242ac1c0002level0_row7\" class=\"row_heading level0 row7\" >macro avg</th>\n",
              "                        <td id=\"T_7f62124a_769e_11ec_a8ac_0242ac1c0002row7_col0\" class=\"data row7 col0\" >0.997958</td>\n",
              "                        <td id=\"T_7f62124a_769e_11ec_a8ac_0242ac1c0002row7_col1\" class=\"data row7 col1\" >0.999004</td>\n",
              "                        <td id=\"T_7f62124a_769e_11ec_a8ac_0242ac1c0002row7_col2\" class=\"data row7 col2\" >0.998478</td>\n",
              "                        <td id=\"T_7f62124a_769e_11ec_a8ac_0242ac1c0002row7_col3\" class=\"data row7 col3\" >8052</td>\n",
              "            </tr>\n",
              "            <tr>\n",
              "                        <th id=\"T_7f62124a_769e_11ec_a8ac_0242ac1c0002level0_row8\" class=\"row_heading level0 row8\" >weighted avg</th>\n",
              "                        <td id=\"T_7f62124a_769e_11ec_a8ac_0242ac1c0002row8_col0\" class=\"data row8 col0\" >0.998761</td>\n",
              "                        <td id=\"T_7f62124a_769e_11ec_a8ac_0242ac1c0002row8_col1\" class=\"data row8 col1\" >0.998758</td>\n",
              "                        <td id=\"T_7f62124a_769e_11ec_a8ac_0242ac1c0002row8_col2\" class=\"data row8 col2\" >0.998757</td>\n",
              "                        <td id=\"T_7f62124a_769e_11ec_a8ac_0242ac1c0002row8_col3\" class=\"data row8 col3\" >8052</td>\n",
              "            </tr>\n",
              "    </tbody></table>"
            ],
            "text/plain": [
              "<pandas.io.formats.style.Styler at 0x7f739708a890>"
            ]
          },
          "metadata": {},
          "execution_count": 95
        }
      ]
    },
    {
      "cell_type": "markdown",
      "source": [
        "#**For Test Data**"
      ],
      "metadata": {
        "id": "s8TKAfwvzjnR"
      }
    },
    {
      "cell_type": "code",
      "source": [
        "from sklearn.metrics import classification_report\n",
        "my_df_test = pd.DataFrame(classification_report(model.predict(X_test), \n",
        "                                        y_test, digits=2,\n",
        "                                        output_dict=True)).T\n",
        "\n",
        "my_df_test['support'] = my_df_test.support.apply(int)\n",
        "\n",
        "my_df_test.style.background_gradient(cmap='viridis',\n",
        "                             subset=pd.IndexSlice['0':'9', :'f1-score'])"
      ],
      "metadata": {
        "colab": {
          "base_uri": "https://localhost:8080/",
          "height": 331
        },
        "id": "YGtnhd1tpxtR",
        "outputId": "b08fade1-b5fa-476c-eda4-5e91c02b3071"
      },
      "execution_count": null,
      "outputs": [
        {
          "output_type": "execute_result",
          "data": {
            "text/html": [
              "<style  type=\"text/css\" >\n",
              "</style><table id=\"T_5aabe034_769e_11ec_a8ac_0242ac1c0002\" class=\"dataframe\"><thead>    <tr>        <th class=\"blank level0\" ></th>        <th class=\"col_heading level0 col0\" >precision</th>        <th class=\"col_heading level0 col1\" >recall</th>        <th class=\"col_heading level0 col2\" >f1-score</th>        <th class=\"col_heading level0 col3\" >support</th>    </tr></thead><tbody>\n",
              "                <tr>\n",
              "                        <th id=\"T_5aabe034_769e_11ec_a8ac_0242ac1c0002level0_row0\" class=\"row_heading level0 row0\" >Electronics</th>\n",
              "                        <td id=\"T_5aabe034_769e_11ec_a8ac_0242ac1c0002row0_col0\" class=\"data row0 col0\" >0.263158</td>\n",
              "                        <td id=\"T_5aabe034_769e_11ec_a8ac_0242ac1c0002row0_col1\" class=\"data row0 col1\" >0.588235</td>\n",
              "                        <td id=\"T_5aabe034_769e_11ec_a8ac_0242ac1c0002row0_col2\" class=\"data row0 col2\" >0.363636</td>\n",
              "                        <td id=\"T_5aabe034_769e_11ec_a8ac_0242ac1c0002row0_col3\" class=\"data row0 col3\" >17</td>\n",
              "            </tr>\n",
              "            <tr>\n",
              "                        <th id=\"T_5aabe034_769e_11ec_a8ac_0242ac1c0002level0_row1\" class=\"row_heading level0 row1\" >Grocery & Gourmet Food</th>\n",
              "                        <td id=\"T_5aabe034_769e_11ec_a8ac_0242ac1c0002row1_col0\" class=\"data row1 col0\" >0.822727</td>\n",
              "                        <td id=\"T_5aabe034_769e_11ec_a8ac_0242ac1c0002row1_col1\" class=\"data row1 col1\" >0.766949</td>\n",
              "                        <td id=\"T_5aabe034_769e_11ec_a8ac_0242ac1c0002row1_col2\" class=\"data row1 col2\" >0.793860</td>\n",
              "                        <td id=\"T_5aabe034_769e_11ec_a8ac_0242ac1c0002row1_col3\" class=\"data row1 col3\" >236</td>\n",
              "            </tr>\n",
              "            <tr>\n",
              "                        <th id=\"T_5aabe034_769e_11ec_a8ac_0242ac1c0002level0_row2\" class=\"row_heading level0 row2\" >Home & Kitchen</th>\n",
              "                        <td id=\"T_5aabe034_769e_11ec_a8ac_0242ac1c0002row2_col0\" class=\"data row2 col0\" >0.890121</td>\n",
              "                        <td id=\"T_5aabe034_769e_11ec_a8ac_0242ac1c0002row2_col1\" class=\"data row2 col1\" >0.808608</td>\n",
              "                        <td id=\"T_5aabe034_769e_11ec_a8ac_0242ac1c0002row2_col2\" class=\"data row2 col2\" >0.847409</td>\n",
              "                        <td id=\"T_5aabe034_769e_11ec_a8ac_0242ac1c0002row2_col3\" class=\"data row2 col3\" >1092</td>\n",
              "            </tr>\n",
              "            <tr>\n",
              "                        <th id=\"T_5aabe034_769e_11ec_a8ac_0242ac1c0002level0_row3\" class=\"row_heading level0 row3\" >Industrial & Scientific</th>\n",
              "                        <td id=\"T_5aabe034_769e_11ec_a8ac_0242ac1c0002row3_col0\" class=\"data row3 col0\" >0.296610</td>\n",
              "                        <td id=\"T_5aabe034_769e_11ec_a8ac_0242ac1c0002row3_col1\" class=\"data row3 col1\" >0.760870</td>\n",
              "                        <td id=\"T_5aabe034_769e_11ec_a8ac_0242ac1c0002row3_col2\" class=\"data row3 col2\" >0.426829</td>\n",
              "                        <td id=\"T_5aabe034_769e_11ec_a8ac_0242ac1c0002row3_col3\" class=\"data row3 col3\" >46</td>\n",
              "            </tr>\n",
              "            <tr>\n",
              "                        <th id=\"T_5aabe034_769e_11ec_a8ac_0242ac1c0002level0_row4\" class=\"row_heading level0 row4\" >Office Products</th>\n",
              "                        <td id=\"T_5aabe034_769e_11ec_a8ac_0242ac1c0002row4_col0\" class=\"data row4 col0\" >0.615721</td>\n",
              "                        <td id=\"T_5aabe034_769e_11ec_a8ac_0242ac1c0002row4_col1\" class=\"data row4 col1\" >0.815029</td>\n",
              "                        <td id=\"T_5aabe034_769e_11ec_a8ac_0242ac1c0002row4_col2\" class=\"data row4 col2\" >0.701493</td>\n",
              "                        <td id=\"T_5aabe034_769e_11ec_a8ac_0242ac1c0002row4_col3\" class=\"data row4 col3\" >173</td>\n",
              "            </tr>\n",
              "            <tr>\n",
              "                        <th id=\"T_5aabe034_769e_11ec_a8ac_0242ac1c0002level0_row5\" class=\"row_heading level0 row5\" >Tools & Home Improvement</th>\n",
              "                        <td id=\"T_5aabe034_769e_11ec_a8ac_0242ac1c0002row5_col0\" class=\"data row5 col0\" >0.750000</td>\n",
              "                        <td id=\"T_5aabe034_769e_11ec_a8ac_0242ac1c0002row5_col1\" class=\"data row5 col1\" >0.694878</td>\n",
              "                        <td id=\"T_5aabe034_769e_11ec_a8ac_0242ac1c0002row5_col2\" class=\"data row5 col2\" >0.721387</td>\n",
              "                        <td id=\"T_5aabe034_769e_11ec_a8ac_0242ac1c0002row5_col3\" class=\"data row5 col3\" >449</td>\n",
              "            </tr>\n",
              "            <tr>\n",
              "                        <th id=\"T_5aabe034_769e_11ec_a8ac_0242ac1c0002level0_row6\" class=\"row_heading level0 row6\" >accuracy</th>\n",
              "                        <td id=\"T_5aabe034_769e_11ec_a8ac_0242ac1c0002row6_col0\" class=\"data row6 col0\" >0.775956</td>\n",
              "                        <td id=\"T_5aabe034_769e_11ec_a8ac_0242ac1c0002row6_col1\" class=\"data row6 col1\" >0.775956</td>\n",
              "                        <td id=\"T_5aabe034_769e_11ec_a8ac_0242ac1c0002row6_col2\" class=\"data row6 col2\" >0.775956</td>\n",
              "                        <td id=\"T_5aabe034_769e_11ec_a8ac_0242ac1c0002row6_col3\" class=\"data row6 col3\" >0</td>\n",
              "            </tr>\n",
              "            <tr>\n",
              "                        <th id=\"T_5aabe034_769e_11ec_a8ac_0242ac1c0002level0_row7\" class=\"row_heading level0 row7\" >macro avg</th>\n",
              "                        <td id=\"T_5aabe034_769e_11ec_a8ac_0242ac1c0002row7_col0\" class=\"data row7 col0\" >0.606389</td>\n",
              "                        <td id=\"T_5aabe034_769e_11ec_a8ac_0242ac1c0002row7_col1\" class=\"data row7 col1\" >0.739095</td>\n",
              "                        <td id=\"T_5aabe034_769e_11ec_a8ac_0242ac1c0002row7_col2\" class=\"data row7 col2\" >0.642436</td>\n",
              "                        <td id=\"T_5aabe034_769e_11ec_a8ac_0242ac1c0002row7_col3\" class=\"data row7 col3\" >2013</td>\n",
              "            </tr>\n",
              "            <tr>\n",
              "                        <th id=\"T_5aabe034_769e_11ec_a8ac_0242ac1c0002level0_row8\" class=\"row_heading level0 row8\" >weighted avg</th>\n",
              "                        <td id=\"T_5aabe034_769e_11ec_a8ac_0242ac1c0002row8_col0\" class=\"data row8 col0\" >0.808526</td>\n",
              "                        <td id=\"T_5aabe034_769e_11ec_a8ac_0242ac1c0002row8_col1\" class=\"data row8 col1\" >0.775956</td>\n",
              "                        <td id=\"T_5aabe034_769e_11ec_a8ac_0242ac1c0002row8_col2\" class=\"data row8 col2\" >0.786785</td>\n",
              "                        <td id=\"T_5aabe034_769e_11ec_a8ac_0242ac1c0002row8_col3\" class=\"data row8 col3\" >2013</td>\n",
              "            </tr>\n",
              "    </tbody></table>"
            ],
            "text/plain": [
              "<pandas.io.formats.style.Styler at 0x7f739708dc90>"
            ]
          },
          "metadata": {},
          "execution_count": 94
        }
      ]
    },
    {
      "cell_type": "markdown",
      "source": [
        "#**Model Testing**"
      ],
      "metadata": {
        "id": "jJfKKXNCpyFj"
      }
    },
    {
      "cell_type": "code",
      "source": [
        "#load the dataset\n",
        "df_test=pd.read_csv('/content/drive/MyDrive/project/testing_data.csv')"
      ],
      "metadata": {
        "id": "T143SBoQp6F2"
      },
      "execution_count": null,
      "outputs": []
    },
    {
      "cell_type": "code",
      "source": [
        "df_test.shape"
      ],
      "metadata": {
        "colab": {
          "base_uri": "https://localhost:8080/"
        },
        "id": "WQOxeWlMwlc9",
        "outputId": "d8f161c7-0e99-4292-8ed1-6fed7f290637"
      },
      "execution_count": null,
      "outputs": [
        {
          "output_type": "execute_result",
          "data": {
            "text/plain": [
              "(10094, 3)"
            ]
          },
          "metadata": {},
          "execution_count": 91
        }
      ]
    },
    {
      "cell_type": "code",
      "source": [
        "def predict_title_category(data):\n",
        "  #data preprocessing\n",
        "  data['tokenized_title'] = data['title'].apply(text_process)\n",
        "  #convert to array\n",
        "  test_vectorized_array= vectorizer.transform(data['tokenized_title']).toarray()\n",
        "  #predict the title category\n",
        "  data['category'] =model.predict(test_vectorized_array)\n",
        "  #take only requred features\n",
        "  data=data.drop('tokenized_title',axis=1)\n",
        "  return data\n"
      ],
      "metadata": {
        "id": "93Kh9lPKtLF-"
      },
      "execution_count": null,
      "outputs": []
    },
    {
      "cell_type": "code",
      "source": [
        "data=predict_title_category(df_test)"
      ],
      "metadata": {
        "id": "MP03tgn6tLTT"
      },
      "execution_count": null,
      "outputs": []
    },
    {
      "cell_type": "code",
      "source": [
        "data.head()"
      ],
      "metadata": {
        "colab": {
          "base_uri": "https://localhost:8080/",
          "height": 206
        },
        "id": "BJEMYZS7uGNI",
        "outputId": "d002cff0-55b5-41c5-9677-548ae791f002"
      },
      "execution_count": null,
      "outputs": [
        {
          "output_type": "execute_result",
          "data": {
            "text/html": [
              "\n",
              "  <div id=\"df-ea38d555-2a68-4200-8605-67d167b0a859\">\n",
              "    <div class=\"colab-df-container\">\n",
              "      <div>\n",
              "<style scoped>\n",
              "    .dataframe tbody tr th:only-of-type {\n",
              "        vertical-align: middle;\n",
              "    }\n",
              "\n",
              "    .dataframe tbody tr th {\n",
              "        vertical-align: top;\n",
              "    }\n",
              "\n",
              "    .dataframe thead th {\n",
              "        text-align: right;\n",
              "    }\n",
              "</style>\n",
              "<table border=\"1\" class=\"dataframe\">\n",
              "  <thead>\n",
              "    <tr style=\"text-align: right;\">\n",
              "      <th></th>\n",
              "      <th>title</th>\n",
              "      <th>category</th>\n",
              "    </tr>\n",
              "  </thead>\n",
              "  <tbody>\n",
              "    <tr>\n",
              "      <th>0</th>\n",
              "      <td>Pom Pom Hair Band Rabbit Light Grey Decorative...</td>\n",
              "      <td>Tools &amp; Home Improvement</td>\n",
              "    </tr>\n",
              "    <tr>\n",
              "      <th>1</th>\n",
              "      <td>Mariposa Golf Ball Napkin Weight</td>\n",
              "      <td>Home &amp; Kitchen</td>\n",
              "    </tr>\n",
              "    <tr>\n",
              "      <th>2</th>\n",
              "      <td>Mediterranean Snack Food Roasted Garlic Hummuz...</td>\n",
              "      <td>Grocery &amp; Gourmet Food</td>\n",
              "    </tr>\n",
              "    <tr>\n",
              "      <th>3</th>\n",
              "      <td>John Deere 0071750GX22269 Genuine Original Equ...</td>\n",
              "      <td>Home &amp; Kitchen</td>\n",
              "    </tr>\n",
              "    <tr>\n",
              "      <th>4</th>\n",
              "      <td>Protech Wood Cleanr Gl,PERFORMANCE COATINGS IN...</td>\n",
              "      <td>Home &amp; Kitchen</td>\n",
              "    </tr>\n",
              "  </tbody>\n",
              "</table>\n",
              "</div>\n",
              "      <button class=\"colab-df-convert\" onclick=\"convertToInteractive('df-ea38d555-2a68-4200-8605-67d167b0a859')\"\n",
              "              title=\"Convert this dataframe to an interactive table.\"\n",
              "              style=\"display:none;\">\n",
              "        \n",
              "  <svg xmlns=\"http://www.w3.org/2000/svg\" height=\"24px\"viewBox=\"0 0 24 24\"\n",
              "       width=\"24px\">\n",
              "    <path d=\"M0 0h24v24H0V0z\" fill=\"none\"/>\n",
              "    <path d=\"M18.56 5.44l.94 2.06.94-2.06 2.06-.94-2.06-.94-.94-2.06-.94 2.06-2.06.94zm-11 1L8.5 8.5l.94-2.06 2.06-.94-2.06-.94L8.5 2.5l-.94 2.06-2.06.94zm10 10l.94 2.06.94-2.06 2.06-.94-2.06-.94-.94-2.06-.94 2.06-2.06.94z\"/><path d=\"M17.41 7.96l-1.37-1.37c-.4-.4-.92-.59-1.43-.59-.52 0-1.04.2-1.43.59L10.3 9.45l-7.72 7.72c-.78.78-.78 2.05 0 2.83L4 21.41c.39.39.9.59 1.41.59.51 0 1.02-.2 1.41-.59l7.78-7.78 2.81-2.81c.8-.78.8-2.07 0-2.86zM5.41 20L4 18.59l7.72-7.72 1.47 1.35L5.41 20z\"/>\n",
              "  </svg>\n",
              "      </button>\n",
              "      \n",
              "  <style>\n",
              "    .colab-df-container {\n",
              "      display:flex;\n",
              "      flex-wrap:wrap;\n",
              "      gap: 12px;\n",
              "    }\n",
              "\n",
              "    .colab-df-convert {\n",
              "      background-color: #E8F0FE;\n",
              "      border: none;\n",
              "      border-radius: 50%;\n",
              "      cursor: pointer;\n",
              "      display: none;\n",
              "      fill: #1967D2;\n",
              "      height: 32px;\n",
              "      padding: 0 0 0 0;\n",
              "      width: 32px;\n",
              "    }\n",
              "\n",
              "    .colab-df-convert:hover {\n",
              "      background-color: #E2EBFA;\n",
              "      box-shadow: 0px 1px 2px rgba(60, 64, 67, 0.3), 0px 1px 3px 1px rgba(60, 64, 67, 0.15);\n",
              "      fill: #174EA6;\n",
              "    }\n",
              "\n",
              "    [theme=dark] .colab-df-convert {\n",
              "      background-color: #3B4455;\n",
              "      fill: #D2E3FC;\n",
              "    }\n",
              "\n",
              "    [theme=dark] .colab-df-convert:hover {\n",
              "      background-color: #434B5C;\n",
              "      box-shadow: 0px 1px 3px 1px rgba(0, 0, 0, 0.15);\n",
              "      filter: drop-shadow(0px 1px 2px rgba(0, 0, 0, 0.3));\n",
              "      fill: #FFFFFF;\n",
              "    }\n",
              "  </style>\n",
              "\n",
              "      <script>\n",
              "        const buttonEl =\n",
              "          document.querySelector('#df-ea38d555-2a68-4200-8605-67d167b0a859 button.colab-df-convert');\n",
              "        buttonEl.style.display =\n",
              "          google.colab.kernel.accessAllowed ? 'block' : 'none';\n",
              "\n",
              "        async function convertToInteractive(key) {\n",
              "          const element = document.querySelector('#df-ea38d555-2a68-4200-8605-67d167b0a859');\n",
              "          const dataTable =\n",
              "            await google.colab.kernel.invokeFunction('convertToInteractive',\n",
              "                                                     [key], {});\n",
              "          if (!dataTable) return;\n",
              "\n",
              "          const docLinkHtml = 'Like what you see? Visit the ' +\n",
              "            '<a target=\"_blank\" href=https://colab.research.google.com/notebooks/data_table.ipynb>data table notebook</a>'\n",
              "            + ' to learn more about interactive tables.';\n",
              "          element.innerHTML = '';\n",
              "          dataTable['output_type'] = 'display_data';\n",
              "          await google.colab.output.renderOutput(dataTable, element);\n",
              "          const docLink = document.createElement('div');\n",
              "          docLink.innerHTML = docLinkHtml;\n",
              "          element.appendChild(docLink);\n",
              "        }\n",
              "      </script>\n",
              "    </div>\n",
              "  </div>\n",
              "  "
            ],
            "text/plain": [
              "                                               title                  category\n",
              "0  Pom Pom Hair Band Rabbit Light Grey Decorative...  Tools & Home Improvement\n",
              "1                   Mariposa Golf Ball Napkin Weight            Home & Kitchen\n",
              "2  Mediterranean Snack Food Roasted Garlic Hummuz...    Grocery & Gourmet Food\n",
              "3  John Deere 0071750GX22269 Genuine Original Equ...            Home & Kitchen\n",
              "4  Protech Wood Cleanr Gl,PERFORMANCE COATINGS IN...            Home & Kitchen"
            ]
          },
          "metadata": {},
          "execution_count": 89
        }
      ]
    },
    {
      "cell_type": "code",
      "source": [
        "data.to_csv('/content/drive/MyDrive/project/test_data_jan_16.csv')"
      ],
      "metadata": {
        "id": "BACRTgtZv_kk"
      },
      "execution_count": null,
      "outputs": []
    }
  ]
}